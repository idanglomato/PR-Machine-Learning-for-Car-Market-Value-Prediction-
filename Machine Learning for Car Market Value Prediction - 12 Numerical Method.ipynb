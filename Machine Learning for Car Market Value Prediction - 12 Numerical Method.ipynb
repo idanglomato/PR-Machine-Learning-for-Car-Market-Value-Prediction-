{
 "cells": [
  {
   "cell_type": "markdown",
   "metadata": {},
   "source": [
    "# Machine Learning for Car Market Value Prediction"
   ]
  },
  {
   "cell_type": "markdown",
   "metadata": {},
   "source": [
    "## Table of Contents <a id='back'></a>\n",
    "\n",
    "* [1. Introduction](#intro)\n",
    "* [2. Initiation](#init)\n",
    "* [3. Data Overview](#overview)\n",
    "\t* [3.1. Understanding Data](#1)\n",
    "\t* [3.2. Data Preparation](#2)\n",
    "\t\t* [3.2.1. Data Cleaning](#21)\n",
    "\t\t* [3.2.2. Derive New Variable](#22)\n",
    "* [4. Model Training](#train)\n",
    "\t* [4.1. Defining Features and Targets](#3)\n",
    "\t* [4.2. Defining Evaluation Metrics](#4)\n",
    "\t* [4.3. Model Training](#5)\n",
    "\t\t* [4.3.1. Linear Regression](#51)\n",
    "\t\t* [4.3.2. Random Forest Regressor](#52)\n",
    "\t\t* [4.3.3. LightGBM](#53)\n",
    "\t\t* [4.3.4. XGBoost](#54)\n",
    "\t\t* [4.3.5. CatBoost](#55)\n",
    "* [5. Model Analysis](#ana)\n",
    "\t* [5.1. Linear Regression](#61)\n",
    "\t* [5.2. Random Forest Regressor](#62)\n",
    "\t* [5.3. LightGBM](#63)\n",
    "\t* [5.4. XGBoost](#64)\n",
    "\t* [5.5. CatBoost](#65)\n",
    "\t* [5.6. Brief Summary](#66)\n",
    "* [6. General Conclusion](#end)\n"
   ]
  },
  {
   "cell_type": "markdown",
   "metadata": {},
   "source": [
    "## 1. Introduction <a id='intro'></a>"
   ]
  },
  {
   "cell_type": "markdown",
   "metadata": {},
   "source": [
    "### 1.1. Project Description"
   ]
  },
  {
   "cell_type": "markdown",
   "metadata": {},
   "source": [
    "Rusty Bargain is a used car buying and selling company that is currently developing an application to attract new buyers. In this application, you can quickly determine the market value of your car. You have access to historical data, technical specifications of vehicles, vehicle model versions, and vehicle prices. Your task is to create a model that can determine the market value of cars.\n",
    "\n",
    "Rusty Bargain is interested in:\n",
    "\n",
    "* prediction accuracy;\n",
    "* model speed in making predictions;\n",
    "* time required to train the model."
   ]
  },
  {
   "cell_type": "markdown",
   "metadata": {},
   "source": [
    "### 1.2. Objectives"
   ]
  },
  {
   "cell_type": "markdown",
   "metadata": {},
   "source": [
    "Create a model that can determine the market value of cars with high accuracy, high prediction speed and low training time."
   ]
  },
  {
   "cell_type": "markdown",
   "metadata": {},
   "source": [
    "### 1.3. Data Description"
   ]
  },
  {
   "cell_type": "markdown",
   "metadata": {},
   "source": [
    "Features:\n",
    "* DateCrawled — date when profile is uploaded to the database\n",
    "* VehicleType — vehicle type\n",
    "* RegistrationYear — vehicle registration year\n",
    "* Gearbox — transmission type\n",
    "* Power — power (hp)\n",
    "* Model — vehicle model\n",
    "* Mileage — distance (km)\n",
    "* RegistrationMonth — vehicle registration month\n",
    "* FuelType — fuel type\n",
    "* Brand — vehicle brand\n",
    "* NotRepaired — has the vehicle been repaired before\n",
    "* DateCreated — profile creation date\n",
    "* NumberOfPictures — number of vehicle pictures\n",
    "* PostalCode — user postal code\n",
    "* LastSeen — user last seen date\n",
    "\n",
    "Target:\n",
    "* Price — price (Euro)"
   ]
  },
  {
   "cell_type": "markdown",
   "metadata": {},
   "source": [
    "### 1.4. Methodology"
   ]
  },
  {
   "cell_type": "markdown",
   "metadata": {},
   "source": [
    "The steps taken in this research are:\n",
    "1. Exploratory Data Analysis:\n",
    " 1. Understanding data\n",
    " 2. Data Preprocessing\n",
    " 3. Statistical Analysis\n",
    " 4. Correlation Analysis\n",
    "2. Model Training and Validation\n",
    "3. Model Analysis\n",
    "4. Conclusion"
   ]
  },
  {
   "cell_type": "markdown",
   "metadata": {},
   "source": [
    "## 2. Initiation <a id='init'></a>"
   ]
  },
  {
   "cell_type": "code",
   "execution_count": 1,
   "metadata": {},
   "outputs": [
    {
     "name": "stdout",
     "output_type": "stream",
     "text": [
      "Collecting missingno\n",
      "  Downloading missingno-0.5.2-py3-none-any.whl (8.7 kB)\n",
      "Requirement already satisfied: matplotlib in /opt/conda/lib/python3.9/site-packages (from missingno) (3.3.4)\n",
      "Requirement already satisfied: numpy in /opt/conda/lib/python3.9/site-packages (from missingno) (1.21.1)\n",
      "Requirement already satisfied: seaborn in /opt/conda/lib/python3.9/site-packages (from missingno) (0.11.1)\n",
      "Requirement already satisfied: scipy in /opt/conda/lib/python3.9/site-packages (from missingno) (1.8.0)\n",
      "Requirement already satisfied: cycler>=0.10 in /opt/conda/lib/python3.9/site-packages (from matplotlib->missingno) (0.11.0)\n",
      "Requirement already satisfied: python-dateutil>=2.1 in /opt/conda/lib/python3.9/site-packages (from matplotlib->missingno) (2.8.1)\n",
      "Requirement already satisfied: pillow>=6.2.0 in /opt/conda/lib/python3.9/site-packages (from matplotlib->missingno) (8.4.0)\n",
      "Requirement already satisfied: kiwisolver>=1.0.1 in /opt/conda/lib/python3.9/site-packages (from matplotlib->missingno) (1.4.2)\n",
      "Requirement already satisfied: pyparsing!=2.0.4,!=2.1.2,!=2.1.6,>=2.0.3 in /opt/conda/lib/python3.9/site-packages (from matplotlib->missingno) (2.4.7)\n",
      "Requirement already satisfied: six>=1.5 in /opt/conda/lib/python3.9/site-packages (from python-dateutil>=2.1->matplotlib->missingno) (1.16.0)\n",
      "Requirement already satisfied: pandas>=0.23 in /opt/conda/lib/python3.9/site-packages (from seaborn->missingno) (1.2.4)\n",
      "Requirement already satisfied: pytz>=2017.3 in /opt/conda/lib/python3.9/site-packages (from pandas>=0.23->seaborn->missingno) (2021.1)\n",
      "Installing collected packages: missingno\n",
      "Successfully installed missingno-0.5.2\n",
      "Note: you may need to restart the kernel to use updated packages.\n"
     ]
    }
   ],
   "source": [
    "pip install missingno"
   ]
  },
  {
   "cell_type": "code",
   "execution_count": 2,
   "metadata": {},
   "outputs": [],
   "source": [
    "import pandas as pd\n",
    "import numpy as np\n",
    "import scipy.stats as st\n",
    "import matplotlib.pyplot as plt\n",
    "import seaborn as sns\n",
    "\n",
    "from sklearn.model_selection import train_test_split, cross_val_score, GridSearchCV\n",
    "from sklearn.preprocessing import StandardScaler\n",
    "from sklearn.metrics import mean_squared_error, r2_score, make_scorer\n",
    "from sklearn.linear_model import LinearRegression\n",
    "from sklearn.ensemble import RandomForestRegressor\n",
    "from catboost import CatBoostRegressor\n",
    "from lightgbm import LGBMRegressor\n",
    "from xgboost import XGBRegressor\n",
    "\n",
    "import missingno as msno\n",
    "from datetime import date, timedelta\n",
    "import time"
   ]
  },
  {
   "cell_type": "code",
   "execution_count": 3,
   "metadata": {},
   "outputs": [],
   "source": [
    "np.random.seed(0)\n",
    "state = np.random.RandomState(0)"
   ]
  },
  {
   "cell_type": "code",
   "execution_count": 4,
   "metadata": {},
   "outputs": [],
   "source": [
    "df = pd.read_csv('/datasets/car_data.csv')"
   ]
  },
  {
   "cell_type": "markdown",
   "metadata": {},
   "source": [
    "## 3. Data Overview <a id='overview'></a>"
   ]
  },
  {
   "cell_type": "markdown",
   "metadata": {},
   "source": [
    "### 3.1. Understanding Data <a id='1'></a>"
   ]
  },
  {
   "cell_type": "markdown",
   "metadata": {},
   "source": [
    "#### 3.1.1. Basic Info"
   ]
  },
  {
   "cell_type": "code",
   "execution_count": 5,
   "metadata": {
    "scrolled": true
   },
   "outputs": [
    {
     "data": {
      "text/html": [
       "<div>\n",
       "<style scoped>\n",
       "    .dataframe tbody tr th:only-of-type {\n",
       "        vertical-align: middle;\n",
       "    }\n",
       "\n",
       "    .dataframe tbody tr th {\n",
       "        vertical-align: top;\n",
       "    }\n",
       "\n",
       "    .dataframe thead th {\n",
       "        text-align: right;\n",
       "    }\n",
       "</style>\n",
       "<table border=\"1\" class=\"dataframe\">\n",
       "  <thead>\n",
       "    <tr style=\"text-align: right;\">\n",
       "      <th></th>\n",
       "      <th>DateCrawled</th>\n",
       "      <th>Price</th>\n",
       "      <th>VehicleType</th>\n",
       "      <th>RegistrationYear</th>\n",
       "      <th>Gearbox</th>\n",
       "      <th>Power</th>\n",
       "      <th>Model</th>\n",
       "      <th>Mileage</th>\n",
       "      <th>RegistrationMonth</th>\n",
       "      <th>FuelType</th>\n",
       "      <th>Brand</th>\n",
       "      <th>NotRepaired</th>\n",
       "      <th>DateCreated</th>\n",
       "      <th>NumberOfPictures</th>\n",
       "      <th>PostalCode</th>\n",
       "      <th>LastSeen</th>\n",
       "    </tr>\n",
       "  </thead>\n",
       "  <tbody>\n",
       "    <tr>\n",
       "      <th>0</th>\n",
       "      <td>24/03/2016 11:52</td>\n",
       "      <td>480</td>\n",
       "      <td>NaN</td>\n",
       "      <td>1993</td>\n",
       "      <td>manual</td>\n",
       "      <td>0</td>\n",
       "      <td>golf</td>\n",
       "      <td>150000</td>\n",
       "      <td>0</td>\n",
       "      <td>petrol</td>\n",
       "      <td>volkswagen</td>\n",
       "      <td>NaN</td>\n",
       "      <td>24/03/2016 00:00</td>\n",
       "      <td>0</td>\n",
       "      <td>70435</td>\n",
       "      <td>07/04/2016 03:16</td>\n",
       "    </tr>\n",
       "    <tr>\n",
       "      <th>1</th>\n",
       "      <td>24/03/2016 10:58</td>\n",
       "      <td>18300</td>\n",
       "      <td>coupe</td>\n",
       "      <td>2011</td>\n",
       "      <td>manual</td>\n",
       "      <td>190</td>\n",
       "      <td>NaN</td>\n",
       "      <td>125000</td>\n",
       "      <td>5</td>\n",
       "      <td>gasoline</td>\n",
       "      <td>audi</td>\n",
       "      <td>yes</td>\n",
       "      <td>24/03/2016 00:00</td>\n",
       "      <td>0</td>\n",
       "      <td>66954</td>\n",
       "      <td>07/04/2016 01:46</td>\n",
       "    </tr>\n",
       "    <tr>\n",
       "      <th>2</th>\n",
       "      <td>14/03/2016 12:52</td>\n",
       "      <td>9800</td>\n",
       "      <td>suv</td>\n",
       "      <td>2004</td>\n",
       "      <td>auto</td>\n",
       "      <td>163</td>\n",
       "      <td>grand</td>\n",
       "      <td>125000</td>\n",
       "      <td>8</td>\n",
       "      <td>gasoline</td>\n",
       "      <td>jeep</td>\n",
       "      <td>NaN</td>\n",
       "      <td>14/03/2016 00:00</td>\n",
       "      <td>0</td>\n",
       "      <td>90480</td>\n",
       "      <td>05/04/2016 12:47</td>\n",
       "    </tr>\n",
       "    <tr>\n",
       "      <th>3</th>\n",
       "      <td>17/03/2016 16:54</td>\n",
       "      <td>1500</td>\n",
       "      <td>small</td>\n",
       "      <td>2001</td>\n",
       "      <td>manual</td>\n",
       "      <td>75</td>\n",
       "      <td>golf</td>\n",
       "      <td>150000</td>\n",
       "      <td>6</td>\n",
       "      <td>petrol</td>\n",
       "      <td>volkswagen</td>\n",
       "      <td>no</td>\n",
       "      <td>17/03/2016 00:00</td>\n",
       "      <td>0</td>\n",
       "      <td>91074</td>\n",
       "      <td>17/03/2016 17:40</td>\n",
       "    </tr>\n",
       "    <tr>\n",
       "      <th>4</th>\n",
       "      <td>31/03/2016 17:25</td>\n",
       "      <td>3600</td>\n",
       "      <td>small</td>\n",
       "      <td>2008</td>\n",
       "      <td>manual</td>\n",
       "      <td>69</td>\n",
       "      <td>fabia</td>\n",
       "      <td>90000</td>\n",
       "      <td>7</td>\n",
       "      <td>gasoline</td>\n",
       "      <td>skoda</td>\n",
       "      <td>no</td>\n",
       "      <td>31/03/2016 00:00</td>\n",
       "      <td>0</td>\n",
       "      <td>60437</td>\n",
       "      <td>06/04/2016 10:17</td>\n",
       "    </tr>\n",
       "  </tbody>\n",
       "</table>\n",
       "</div>"
      ],
      "text/plain": [
       "        DateCrawled  Price VehicleType  RegistrationYear Gearbox  Power  \\\n",
       "0  24/03/2016 11:52    480         NaN              1993  manual      0   \n",
       "1  24/03/2016 10:58  18300       coupe              2011  manual    190   \n",
       "2  14/03/2016 12:52   9800         suv              2004    auto    163   \n",
       "3  17/03/2016 16:54   1500       small              2001  manual     75   \n",
       "4  31/03/2016 17:25   3600       small              2008  manual     69   \n",
       "\n",
       "   Model  Mileage  RegistrationMonth  FuelType       Brand NotRepaired  \\\n",
       "0   golf   150000                  0    petrol  volkswagen         NaN   \n",
       "1    NaN   125000                  5  gasoline        audi         yes   \n",
       "2  grand   125000                  8  gasoline        jeep         NaN   \n",
       "3   golf   150000                  6    petrol  volkswagen          no   \n",
       "4  fabia    90000                  7  gasoline       skoda          no   \n",
       "\n",
       "        DateCreated  NumberOfPictures  PostalCode          LastSeen  \n",
       "0  24/03/2016 00:00                 0       70435  07/04/2016 03:16  \n",
       "1  24/03/2016 00:00                 0       66954  07/04/2016 01:46  \n",
       "2  14/03/2016 00:00                 0       90480  05/04/2016 12:47  \n",
       "3  17/03/2016 00:00                 0       91074  17/03/2016 17:40  \n",
       "4  31/03/2016 00:00                 0       60437  06/04/2016 10:17  "
      ]
     },
     "execution_count": 5,
     "metadata": {},
     "output_type": "execute_result"
    }
   ],
   "source": [
    "df.head()"
   ]
  },
  {
   "cell_type": "code",
   "execution_count": 6,
   "metadata": {
    "scrolled": false
   },
   "outputs": [
    {
     "name": "stdout",
     "output_type": "stream",
     "text": [
      "<class 'pandas.core.frame.DataFrame'>\n",
      "RangeIndex: 354369 entries, 0 to 354368\n",
      "Data columns (total 16 columns):\n",
      " #   Column             Non-Null Count   Dtype \n",
      "---  ------             --------------   ----- \n",
      " 0   DateCrawled        354369 non-null  object\n",
      " 1   Price              354369 non-null  int64 \n",
      " 2   VehicleType        316879 non-null  object\n",
      " 3   RegistrationYear   354369 non-null  int64 \n",
      " 4   Gearbox            334536 non-null  object\n",
      " 5   Power              354369 non-null  int64 \n",
      " 6   Model              334664 non-null  object\n",
      " 7   Mileage            354369 non-null  int64 \n",
      " 8   RegistrationMonth  354369 non-null  int64 \n",
      " 9   FuelType           321474 non-null  object\n",
      " 10  Brand              354369 non-null  object\n",
      " 11  NotRepaired        283215 non-null  object\n",
      " 12  DateCreated        354369 non-null  object\n",
      " 13  NumberOfPictures   354369 non-null  int64 \n",
      " 14  PostalCode         354369 non-null  int64 \n",
      " 15  LastSeen           354369 non-null  object\n",
      "dtypes: int64(7), object(9)\n",
      "memory usage: 43.3+ MB\n"
     ]
    }
   ],
   "source": [
    "df.info()"
   ]
  },
  {
   "cell_type": "code",
   "execution_count": 7,
   "metadata": {},
   "outputs": [],
   "source": [
    "df.columns = map(str.lower, df.columns)"
   ]
  },
  {
   "cell_type": "markdown",
   "metadata": {},
   "source": [
    "#### 3.1.2. Duplicated data"
   ]
  },
  {
   "cell_type": "code",
   "execution_count": 8,
   "metadata": {
    "scrolled": true
   },
   "outputs": [
    {
     "name": "stdout",
     "output_type": "stream",
     "text": [
      "Total number of duplicated rows = 262\n"
     ]
    }
   ],
   "source": [
    "print(f'Total number of duplicated rows = {df.duplicated().sum()}')"
   ]
  },
  {
   "cell_type": "code",
   "execution_count": 9,
   "metadata": {
    "scrolled": false
   },
   "outputs": [
    {
     "data": {
      "text/html": [
       "<div>\n",
       "<style scoped>\n",
       "    .dataframe tbody tr th:only-of-type {\n",
       "        vertical-align: middle;\n",
       "    }\n",
       "\n",
       "    .dataframe tbody tr th {\n",
       "        vertical-align: top;\n",
       "    }\n",
       "\n",
       "    .dataframe thead th {\n",
       "        text-align: right;\n",
       "    }\n",
       "</style>\n",
       "<table border=\"1\" class=\"dataframe\">\n",
       "  <thead>\n",
       "    <tr style=\"text-align: right;\">\n",
       "      <th></th>\n",
       "      <th>datecrawled</th>\n",
       "      <th>price</th>\n",
       "      <th>vehicletype</th>\n",
       "      <th>registrationyear</th>\n",
       "      <th>gearbox</th>\n",
       "      <th>power</th>\n",
       "      <th>model</th>\n",
       "      <th>mileage</th>\n",
       "      <th>registrationmonth</th>\n",
       "      <th>fueltype</th>\n",
       "      <th>brand</th>\n",
       "      <th>notrepaired</th>\n",
       "      <th>datecreated</th>\n",
       "      <th>numberofpictures</th>\n",
       "      <th>postalcode</th>\n",
       "      <th>lastseen</th>\n",
       "    </tr>\n",
       "  </thead>\n",
       "  <tbody>\n",
       "    <tr>\n",
       "      <th>70276</th>\n",
       "      <td>09/03/2016 20:45</td>\n",
       "      <td>0</td>\n",
       "      <td>NaN</td>\n",
       "      <td>1985</td>\n",
       "      <td>NaN</td>\n",
       "      <td>0</td>\n",
       "      <td>other</td>\n",
       "      <td>100000</td>\n",
       "      <td>0</td>\n",
       "      <td>NaN</td>\n",
       "      <td>alfa_romeo</td>\n",
       "      <td>NaN</td>\n",
       "      <td>09/03/2016 00:00</td>\n",
       "      <td>0</td>\n",
       "      <td>75203</td>\n",
       "      <td>06/04/2016 21:17</td>\n",
       "    </tr>\n",
       "    <tr>\n",
       "      <th>306497</th>\n",
       "      <td>09/03/2016 20:45</td>\n",
       "      <td>0</td>\n",
       "      <td>NaN</td>\n",
       "      <td>1985</td>\n",
       "      <td>NaN</td>\n",
       "      <td>0</td>\n",
       "      <td>other</td>\n",
       "      <td>100000</td>\n",
       "      <td>0</td>\n",
       "      <td>NaN</td>\n",
       "      <td>alfa_romeo</td>\n",
       "      <td>NaN</td>\n",
       "      <td>09/03/2016 00:00</td>\n",
       "      <td>0</td>\n",
       "      <td>75203</td>\n",
       "      <td>06/04/2016 21:17</td>\n",
       "    </tr>\n",
       "    <tr>\n",
       "      <th>51498</th>\n",
       "      <td>15/03/2016 10:56</td>\n",
       "      <td>0</td>\n",
       "      <td>wagon</td>\n",
       "      <td>2006</td>\n",
       "      <td>manual</td>\n",
       "      <td>122</td>\n",
       "      <td>other</td>\n",
       "      <td>150000</td>\n",
       "      <td>1</td>\n",
       "      <td>NaN</td>\n",
       "      <td>chevrolet</td>\n",
       "      <td>no</td>\n",
       "      <td>15/03/2016 00:00</td>\n",
       "      <td>0</td>\n",
       "      <td>44287</td>\n",
       "      <td>18/03/2016 03:18</td>\n",
       "    </tr>\n",
       "    <tr>\n",
       "      <th>256274</th>\n",
       "      <td>15/03/2016 10:56</td>\n",
       "      <td>0</td>\n",
       "      <td>wagon</td>\n",
       "      <td>2006</td>\n",
       "      <td>manual</td>\n",
       "      <td>122</td>\n",
       "      <td>other</td>\n",
       "      <td>150000</td>\n",
       "      <td>1</td>\n",
       "      <td>NaN</td>\n",
       "      <td>chevrolet</td>\n",
       "      <td>no</td>\n",
       "      <td>15/03/2016 00:00</td>\n",
       "      <td>0</td>\n",
       "      <td>44287</td>\n",
       "      <td>18/03/2016 03:18</td>\n",
       "    </tr>\n",
       "  </tbody>\n",
       "</table>\n",
       "</div>"
      ],
      "text/plain": [
       "             datecrawled  price vehicletype  registrationyear gearbox  power  \\\n",
       "70276   09/03/2016 20:45      0         NaN              1985     NaN      0   \n",
       "306497  09/03/2016 20:45      0         NaN              1985     NaN      0   \n",
       "51498   15/03/2016 10:56      0       wagon              2006  manual    122   \n",
       "256274  15/03/2016 10:56      0       wagon              2006  manual    122   \n",
       "\n",
       "        model  mileage  registrationmonth fueltype       brand notrepaired  \\\n",
       "70276   other   100000                  0      NaN  alfa_romeo         NaN   \n",
       "306497  other   100000                  0      NaN  alfa_romeo         NaN   \n",
       "51498   other   150000                  1      NaN   chevrolet          no   \n",
       "256274  other   150000                  1      NaN   chevrolet          no   \n",
       "\n",
       "             datecreated  numberofpictures  postalcode          lastseen  \n",
       "70276   09/03/2016 00:00                 0       75203  06/04/2016 21:17  \n",
       "306497  09/03/2016 00:00                 0       75203  06/04/2016 21:17  \n",
       "51498   15/03/2016 00:00                 0       44287  18/03/2016 03:18  \n",
       "256274  15/03/2016 00:00                 0       44287  18/03/2016 03:18  "
      ]
     },
     "execution_count": 9,
     "metadata": {},
     "output_type": "execute_result"
    }
   ],
   "source": [
    "df[df.duplicated(keep=False)].sort_values(by=['price','datecrawled','postalcode']).head(4)"
   ]
  },
  {
   "cell_type": "markdown",
   "metadata": {},
   "source": [
    "#### 3.1.3. Missing Data"
   ]
  },
  {
   "cell_type": "code",
   "execution_count": 10,
   "metadata": {
    "scrolled": true
   },
   "outputs": [
    {
     "name": "stdout",
     "output_type": "stream",
     "text": [
      "Total number of missing data = 181,077\n"
     ]
    }
   ],
   "source": [
    "print(f'Total number of missing data = {df.isna().sum().sum():,}')"
   ]
  },
  {
   "cell_type": "code",
   "execution_count": 11,
   "metadata": {
    "scrolled": true
   },
   "outputs": [
    {
     "name": "stdout",
     "output_type": "stream",
     "text": [
      "Proportion of missing data by columns:\n"
     ]
    },
    {
     "data": {
      "text/plain": [
       "vehicletype    0.105794\n",
       "gearbox        0.055967\n",
       "model          0.055606\n",
       "fueltype       0.092827\n",
       "notrepaired    0.200791\n",
       "dtype: float64"
      ]
     },
     "execution_count": 11,
     "metadata": {},
     "output_type": "execute_result"
    }
   ],
   "source": [
    "print('Proportion of missing data by columns:')\n",
    "df.isna().sum()[df.isna().sum() > 0]/df.shape[0]"
   ]
  },
  {
   "cell_type": "code",
   "execution_count": 12,
   "metadata": {
    "scrolled": false
   },
   "outputs": [
    {
     "name": "stdout",
     "output_type": "stream",
     "text": [
      "VehicleType unique values = [nan, 'coupe', 'suv', 'small', 'sedan', 'convertible', 'bus', 'wagon', 'other']\n",
      "Gearbox unique values = ['manual', 'auto', nan]\n",
      "Model unique values = ['golf', nan, 'grand', 'fabia', '3er', '2_reihe', 'other', 'c_max', '3_reihe', 'passat', 'navara', 'ka', 'polo', 'twingo', 'a_klasse', 'scirocco', '5er', 'meriva', 'arosa', 'c4', 'civic', 'transporter', 'punto', 'e_klasse', 'clio', 'kadett', 'kangoo', 'corsa', 'one', 'fortwo', '1er', 'b_klasse', 'signum', 'astra', 'a8', 'jetta', 'fiesta', 'c_klasse', 'micra', 'vito', 'sprinter', '156', 'escort', 'forester', 'xc_reihe', 'scenic', 'a4', 'a1', 'insignia', 'combo', 'focus', 'tt', 'a6', 'jazz', 'omega', 'slk', '7er', '80', '147', '100', 'z_reihe', 'sportage', 'sorento', 'v40', 'ibiza', 'mustang', 'eos', 'touran', 'getz', 'a3', 'almera', 'megane', 'lupo', 'r19', 'zafira', 'caddy', 'mondeo', 'cordoba', 'colt', 'impreza', 'vectra', 'berlingo', 'tiguan', 'i_reihe', 'espace', 'sharan', '6_reihe', 'panda', 'up', 'seicento', 'ceed', '5_reihe', 'yeti', 'octavia', 'mii', 'rx_reihe', '6er', 'modus', 'fox', 'matiz', 'beetle', 'c1', 'rio', 'touareg', 'logan', 'spider', 'cuore', 's_max', 'a2', 'galaxy', 'c3', 'viano', 's_klasse', '1_reihe', 'avensis', 'roomster', 'sl', 'kaefer', 'santa', 'cooper', 'leon', '4_reihe', 'a5', '500', 'laguna', 'ptcruiser', 'clk', 'primera', 'x_reihe', 'exeo', '159', 'transit', 'juke', 'qashqai', 'carisma', 'accord', 'corolla', 'lanos', 'phaeton', 'verso', 'swift', 'rav', 'picanto', 'boxster', 'kalos', 'superb', 'stilo', 'alhambra', 'mx_reihe', 'roadster', 'ypsilon', 'cayenne', 'galant', 'justy', '90', 'sirion', 'crossfire', 'agila', 'duster', 'cr_reihe', 'v50', 'c_reihe', 'v_klasse', 'm_klasse', 'yaris', 'c5', 'aygo', 'cc', 'carnival', 'fusion', '911', 'bora', 'forfour', 'm_reihe', 'cl', 'tigra', '300c', 'spark', 'v70', 'kuga', 'x_type', 'ducato', 's_type', 'x_trail', 'toledo', 'altea', 'voyager', 'calibra', 'bravo', 'antara', 'tucson', 'citigo', 'jimny', 'wrangler', 'lybra', 'q7', 'lancer', 'captiva', 'c2', 'discovery', 'freelander', 'sandero', 'note', '900', 'cherokee', 'clubman', 'samara', 'defender', '601', 'cx_reihe', 'legacy', 'pajero', 'auris', 'niva', 's60', 'nubira', 'vivaro', 'g_klasse', 'lodgy', '850', 'range_rover', 'q3', 'serie_2', 'glk', 'charade', 'croma', 'outlander', 'doblo', 'musa', 'move', '9000', 'v60', '145', 'aveo', '200', 'b_max', 'range_rover_sport', 'terios', 'rangerover', 'q5', 'range_rover_evoque', 'materia', 'delta', 'gl', 'kalina', 'amarok', 'elefantino', 'i3', 'kappa', 'serie_3', 'serie_1']\n",
      "\n",
      "FuelType unique values = ['petrol', 'gasoline', nan, 'lpg', 'other', 'hybrid', 'cng', 'electric']\n",
      "NotRepaired unique values = [nan, 'yes', 'no']\n"
     ]
    }
   ],
   "source": [
    "print('VehicleType unique values =', list(df['vehicletype'].unique()))\n",
    "print('Gearbox unique values =', list(df['gearbox'].unique()))\n",
    "print('Model unique values =', list(df['model'].unique()))\n",
    "print()\n",
    "print('FuelType unique values =', list(df['fueltype'].unique()))\n",
    "print('NotRepaired unique values =', list(df['notrepaired'].unique()))"
   ]
  },
  {
   "cell_type": "code",
   "execution_count": 13,
   "metadata": {
    "scrolled": false
   },
   "outputs": [
    {
     "data": {
      "image/png": "[encoded data removed]",
      "text/plain": [
       "<Figure size 1800x720 with 2 Axes>"
      ]
     },
     "metadata": {
      "needs_background": "light"
     },
     "output_type": "display_data"
    }
   ],
   "source": [
    "msno.matrix(df)\n",
    "plt.show()"
   ]
  },
  {
   "cell_type": "code",
   "execution_count": 14,
   "metadata": {
    "scrolled": false
   },
   "outputs": [
    {
     "data": {
      "image/png": "[encoded data removed]",
      "text/plain": [
       "<Figure size 1800x720 with 2 Axes>"
      ]
     },
     "metadata": {
      "needs_background": "light"
     },
     "output_type": "display_data"
    }
   ],
   "source": [
    "msno.matrix(df.sort_values(by=['registrationyear','registrationmonth'],ascending=['False','False']))\n",
    "plt.show()"
   ]
  },
  {
   "cell_type": "markdown",
   "metadata": {},
   "source": [
    "#### 3.1.4. Statistics"
   ]
  },
  {
   "cell_type": "code",
   "execution_count": 15,
   "metadata": {
    "scrolled": false
   },
   "outputs": [
    {
     "data": {
      "text/html": [
       "<div>\n",
       "<style scoped>\n",
       "    .dataframe tbody tr th:only-of-type {\n",
       "        vertical-align: middle;\n",
       "    }\n",
       "\n",
       "    .dataframe tbody tr th {\n",
       "        vertical-align: top;\n",
       "    }\n",
       "\n",
       "    .dataframe thead th {\n",
       "        text-align: right;\n",
       "    }\n",
       "</style>\n",
       "<table border=\"1\" class=\"dataframe\">\n",
       "  <thead>\n",
       "    <tr style=\"text-align: right;\">\n",
       "      <th></th>\n",
       "      <th>price</th>\n",
       "      <th>registrationyear</th>\n",
       "      <th>power</th>\n",
       "      <th>mileage</th>\n",
       "      <th>registrationmonth</th>\n",
       "      <th>numberofpictures</th>\n",
       "      <th>postalcode</th>\n",
       "    </tr>\n",
       "  </thead>\n",
       "  <tbody>\n",
       "    <tr>\n",
       "      <th>count</th>\n",
       "      <td>354369.000000</td>\n",
       "      <td>354369.000000</td>\n",
       "      <td>354369.000000</td>\n",
       "      <td>354369.000000</td>\n",
       "      <td>354369.000000</td>\n",
       "      <td>354369.0</td>\n",
       "      <td>354369.000000</td>\n",
       "    </tr>\n",
       "    <tr>\n",
       "      <th>mean</th>\n",
       "      <td>4416.656776</td>\n",
       "      <td>2004.234448</td>\n",
       "      <td>110.094337</td>\n",
       "      <td>128211.172535</td>\n",
       "      <td>5.714645</td>\n",
       "      <td>0.0</td>\n",
       "      <td>50508.689087</td>\n",
       "    </tr>\n",
       "    <tr>\n",
       "      <th>std</th>\n",
       "      <td>4514.158514</td>\n",
       "      <td>90.227958</td>\n",
       "      <td>189.850405</td>\n",
       "      <td>37905.341530</td>\n",
       "      <td>3.726421</td>\n",
       "      <td>0.0</td>\n",
       "      <td>25783.096248</td>\n",
       "    </tr>\n",
       "    <tr>\n",
       "      <th>min</th>\n",
       "      <td>0.000000</td>\n",
       "      <td>1000.000000</td>\n",
       "      <td>0.000000</td>\n",
       "      <td>5000.000000</td>\n",
       "      <td>0.000000</td>\n",
       "      <td>0.0</td>\n",
       "      <td>1067.000000</td>\n",
       "    </tr>\n",
       "    <tr>\n",
       "      <th>25%</th>\n",
       "      <td>1050.000000</td>\n",
       "      <td>1999.000000</td>\n",
       "      <td>69.000000</td>\n",
       "      <td>125000.000000</td>\n",
       "      <td>3.000000</td>\n",
       "      <td>0.0</td>\n",
       "      <td>30165.000000</td>\n",
       "    </tr>\n",
       "    <tr>\n",
       "      <th>50%</th>\n",
       "      <td>2700.000000</td>\n",
       "      <td>2003.000000</td>\n",
       "      <td>105.000000</td>\n",
       "      <td>150000.000000</td>\n",
       "      <td>6.000000</td>\n",
       "      <td>0.0</td>\n",
       "      <td>49413.000000</td>\n",
       "    </tr>\n",
       "    <tr>\n",
       "      <th>75%</th>\n",
       "      <td>6400.000000</td>\n",
       "      <td>2008.000000</td>\n",
       "      <td>143.000000</td>\n",
       "      <td>150000.000000</td>\n",
       "      <td>9.000000</td>\n",
       "      <td>0.0</td>\n",
       "      <td>71083.000000</td>\n",
       "    </tr>\n",
       "    <tr>\n",
       "      <th>max</th>\n",
       "      <td>20000.000000</td>\n",
       "      <td>9999.000000</td>\n",
       "      <td>20000.000000</td>\n",
       "      <td>150000.000000</td>\n",
       "      <td>12.000000</td>\n",
       "      <td>0.0</td>\n",
       "      <td>99998.000000</td>\n",
       "    </tr>\n",
       "  </tbody>\n",
       "</table>\n",
       "</div>"
      ],
      "text/plain": [
       "               price  registrationyear          power        mileage  \\\n",
       "count  354369.000000     354369.000000  354369.000000  354369.000000   \n",
       "mean     4416.656776       2004.234448     110.094337  128211.172535   \n",
       "std      4514.158514         90.227958     189.850405   37905.341530   \n",
       "min         0.000000       1000.000000       0.000000    5000.000000   \n",
       "25%      1050.000000       1999.000000      69.000000  125000.000000   \n",
       "50%      2700.000000       2003.000000     105.000000  150000.000000   \n",
       "75%      6400.000000       2008.000000     143.000000  150000.000000   \n",
       "max     20000.000000       9999.000000   20000.000000  150000.000000   \n",
       "\n",
       "       registrationmonth  numberofpictures     postalcode  \n",
       "count      354369.000000          354369.0  354369.000000  \n",
       "mean            5.714645               0.0   50508.689087  \n",
       "std             3.726421               0.0   25783.096248  \n",
       "min             0.000000               0.0    1067.000000  \n",
       "25%             3.000000               0.0   30165.000000  \n",
       "50%             6.000000               0.0   49413.000000  \n",
       "75%             9.000000               0.0   71083.000000  \n",
       "max            12.000000               0.0   99998.000000  "
      ]
     },
     "execution_count": 15,
     "metadata": {},
     "output_type": "execute_result"
    }
   ],
   "source": [
    "df.describe()"
   ]
  },
  {
   "cell_type": "code",
   "execution_count": 16,
   "metadata": {
    "scrolled": true
   },
   "outputs": [
    {
     "data": {
      "text/html": [
       "<div>\n",
       "<style scoped>\n",
       "    .dataframe tbody tr th:only-of-type {\n",
       "        vertical-align: middle;\n",
       "    }\n",
       "\n",
       "    .dataframe tbody tr th {\n",
       "        vertical-align: top;\n",
       "    }\n",
       "\n",
       "    .dataframe thead th {\n",
       "        text-align: right;\n",
       "    }\n",
       "</style>\n",
       "<table border=\"1\" class=\"dataframe\">\n",
       "  <thead>\n",
       "    <tr style=\"text-align: right;\">\n",
       "      <th></th>\n",
       "      <th>price</th>\n",
       "      <th>registrationyear</th>\n",
       "      <th>power</th>\n",
       "      <th>mileage</th>\n",
       "      <th>registrationmonth</th>\n",
       "      <th>numberofpictures</th>\n",
       "      <th>postalcode</th>\n",
       "    </tr>\n",
       "  </thead>\n",
       "  <tbody>\n",
       "    <tr>\n",
       "      <th>count</th>\n",
       "      <td>354264.000000</td>\n",
       "      <td>354264.000000</td>\n",
       "      <td>354264.000000</td>\n",
       "      <td>354264.000000</td>\n",
       "      <td>354264.000000</td>\n",
       "      <td>354264.0</td>\n",
       "      <td>354264.000000</td>\n",
       "    </tr>\n",
       "    <tr>\n",
       "      <th>mean</th>\n",
       "      <td>4417.097108</td>\n",
       "      <td>2002.931805</td>\n",
       "      <td>110.093961</td>\n",
       "      <td>128246.209042</td>\n",
       "      <td>5.715932</td>\n",
       "      <td>0.0</td>\n",
       "      <td>50510.983422</td>\n",
       "    </tr>\n",
       "    <tr>\n",
       "      <th>std</th>\n",
       "      <td>4514.051658</td>\n",
       "      <td>13.976363</td>\n",
       "      <td>189.627998</td>\n",
       "      <td>37855.202965</td>\n",
       "      <td>3.725853</td>\n",
       "      <td>0.0</td>\n",
       "      <td>25783.787478</td>\n",
       "    </tr>\n",
       "    <tr>\n",
       "      <th>min</th>\n",
       "      <td>0.000000</td>\n",
       "      <td>1000.000000</td>\n",
       "      <td>0.000000</td>\n",
       "      <td>5000.000000</td>\n",
       "      <td>0.000000</td>\n",
       "      <td>0.0</td>\n",
       "      <td>1067.000000</td>\n",
       "    </tr>\n",
       "    <tr>\n",
       "      <th>25%</th>\n",
       "      <td>1050.000000</td>\n",
       "      <td>1999.000000</td>\n",
       "      <td>69.000000</td>\n",
       "      <td>125000.000000</td>\n",
       "      <td>3.000000</td>\n",
       "      <td>0.0</td>\n",
       "      <td>30165.000000</td>\n",
       "    </tr>\n",
       "    <tr>\n",
       "      <th>50%</th>\n",
       "      <td>2700.000000</td>\n",
       "      <td>2003.000000</td>\n",
       "      <td>105.000000</td>\n",
       "      <td>150000.000000</td>\n",
       "      <td>6.000000</td>\n",
       "      <td>0.0</td>\n",
       "      <td>49413.000000</td>\n",
       "    </tr>\n",
       "    <tr>\n",
       "      <th>75%</th>\n",
       "      <td>6400.000000</td>\n",
       "      <td>2008.000000</td>\n",
       "      <td>143.000000</td>\n",
       "      <td>150000.000000</td>\n",
       "      <td>9.000000</td>\n",
       "      <td>0.0</td>\n",
       "      <td>71083.000000</td>\n",
       "    </tr>\n",
       "    <tr>\n",
       "      <th>max</th>\n",
       "      <td>20000.000000</td>\n",
       "      <td>2019.000000</td>\n",
       "      <td>20000.000000</td>\n",
       "      <td>150000.000000</td>\n",
       "      <td>12.000000</td>\n",
       "      <td>0.0</td>\n",
       "      <td>99998.000000</td>\n",
       "    </tr>\n",
       "  </tbody>\n",
       "</table>\n",
       "</div>"
      ],
      "text/plain": [
       "               price  registrationyear          power        mileage  \\\n",
       "count  354264.000000     354264.000000  354264.000000  354264.000000   \n",
       "mean     4417.097108       2002.931805     110.093961  128246.209042   \n",
       "std      4514.051658         13.976363     189.627998   37855.202965   \n",
       "min         0.000000       1000.000000       0.000000    5000.000000   \n",
       "25%      1050.000000       1999.000000      69.000000  125000.000000   \n",
       "50%      2700.000000       2003.000000     105.000000  150000.000000   \n",
       "75%      6400.000000       2008.000000     143.000000  150000.000000   \n",
       "max     20000.000000       2019.000000   20000.000000  150000.000000   \n",
       "\n",
       "       registrationmonth  numberofpictures     postalcode  \n",
       "count      354264.000000          354264.0  354264.000000  \n",
       "mean            5.715932               0.0   50510.983422  \n",
       "std             3.725853               0.0   25783.787478  \n",
       "min             0.000000               0.0    1067.000000  \n",
       "25%             3.000000               0.0   30165.000000  \n",
       "50%             6.000000               0.0   49413.000000  \n",
       "75%             9.000000               0.0   71083.000000  \n",
       "max            12.000000               0.0   99998.000000  "
      ]
     },
     "execution_count": 16,
     "metadata": {},
     "output_type": "execute_result"
    }
   ],
   "source": [
    "df[df['registrationyear'] < 2023].describe()"
   ]
  },
  {
   "cell_type": "code",
   "execution_count": 17,
   "metadata": {
    "scrolled": true
   },
   "outputs": [
    {
     "data": {
      "text/html": [
       "<div>\n",
       "<style scoped>\n",
       "    .dataframe tbody tr th:only-of-type {\n",
       "        vertical-align: middle;\n",
       "    }\n",
       "\n",
       "    .dataframe tbody tr th {\n",
       "        vertical-align: top;\n",
       "    }\n",
       "\n",
       "    .dataframe thead th {\n",
       "        text-align: right;\n",
       "    }\n",
       "</style>\n",
       "<table border=\"1\" class=\"dataframe\">\n",
       "  <thead>\n",
       "    <tr style=\"text-align: right;\">\n",
       "      <th></th>\n",
       "      <th>price</th>\n",
       "      <th>registrationyear</th>\n",
       "      <th>power</th>\n",
       "      <th>mileage</th>\n",
       "      <th>registrationmonth</th>\n",
       "      <th>numberofpictures</th>\n",
       "      <th>postalcode</th>\n",
       "    </tr>\n",
       "  </thead>\n",
       "  <tbody>\n",
       "    <tr>\n",
       "      <th>count</th>\n",
       "      <td>105.000000</td>\n",
       "      <td>105.000000</td>\n",
       "      <td>105.000000</td>\n",
       "      <td>105.00000</td>\n",
       "      <td>105.000000</td>\n",
       "      <td>105.0</td>\n",
       "      <td>105.000000</td>\n",
       "    </tr>\n",
       "    <tr>\n",
       "      <th>mean</th>\n",
       "      <td>2931.000000</td>\n",
       "      <td>6399.276190</td>\n",
       "      <td>111.361905</td>\n",
       "      <td>10000.00000</td>\n",
       "      <td>1.371429</td>\n",
       "      <td>0.0</td>\n",
       "      <td>42767.733333</td>\n",
       "    </tr>\n",
       "    <tr>\n",
       "      <th>std</th>\n",
       "      <td>4650.880665</td>\n",
       "      <td>2750.727549</td>\n",
       "      <td>569.106116</td>\n",
       "      <td>16655.44494</td>\n",
       "      <td>3.064239</td>\n",
       "      <td>0.0</td>\n",
       "      <td>22118.427833</td>\n",
       "    </tr>\n",
       "    <tr>\n",
       "      <th>min</th>\n",
       "      <td>0.000000</td>\n",
       "      <td>2066.000000</td>\n",
       "      <td>0.000000</td>\n",
       "      <td>5000.00000</td>\n",
       "      <td>0.000000</td>\n",
       "      <td>0.0</td>\n",
       "      <td>1239.000000</td>\n",
       "    </tr>\n",
       "    <tr>\n",
       "      <th>25%</th>\n",
       "      <td>50.000000</td>\n",
       "      <td>4100.000000</td>\n",
       "      <td>0.000000</td>\n",
       "      <td>5000.00000</td>\n",
       "      <td>0.000000</td>\n",
       "      <td>0.0</td>\n",
       "      <td>27432.000000</td>\n",
       "    </tr>\n",
       "    <tr>\n",
       "      <th>50%</th>\n",
       "      <td>500.000000</td>\n",
       "      <td>5911.000000</td>\n",
       "      <td>0.000000</td>\n",
       "      <td>10000.00000</td>\n",
       "      <td>0.000000</td>\n",
       "      <td>0.0</td>\n",
       "      <td>40822.000000</td>\n",
       "    </tr>\n",
       "    <tr>\n",
       "      <th>75%</th>\n",
       "      <td>4000.000000</td>\n",
       "      <td>9996.000000</td>\n",
       "      <td>3.000000</td>\n",
       "      <td>10000.00000</td>\n",
       "      <td>0.000000</td>\n",
       "      <td>0.0</td>\n",
       "      <td>55743.000000</td>\n",
       "    </tr>\n",
       "    <tr>\n",
       "      <th>max</th>\n",
       "      <td>20000.000000</td>\n",
       "      <td>9999.000000</td>\n",
       "      <td>5000.000000</td>\n",
       "      <td>150000.00000</td>\n",
       "      <td>12.000000</td>\n",
       "      <td>0.0</td>\n",
       "      <td>96465.000000</td>\n",
       "    </tr>\n",
       "  </tbody>\n",
       "</table>\n",
       "</div>"
      ],
      "text/plain": [
       "              price  registrationyear        power       mileage  \\\n",
       "count    105.000000        105.000000   105.000000     105.00000   \n",
       "mean    2931.000000       6399.276190   111.361905   10000.00000   \n",
       "std     4650.880665       2750.727549   569.106116   16655.44494   \n",
       "min        0.000000       2066.000000     0.000000    5000.00000   \n",
       "25%       50.000000       4100.000000     0.000000    5000.00000   \n",
       "50%      500.000000       5911.000000     0.000000   10000.00000   \n",
       "75%     4000.000000       9996.000000     3.000000   10000.00000   \n",
       "max    20000.000000       9999.000000  5000.000000  150000.00000   \n",
       "\n",
       "       registrationmonth  numberofpictures    postalcode  \n",
       "count         105.000000             105.0    105.000000  \n",
       "mean            1.371429               0.0  42767.733333  \n",
       "std             3.064239               0.0  22118.427833  \n",
       "min             0.000000               0.0   1239.000000  \n",
       "25%             0.000000               0.0  27432.000000  \n",
       "50%             0.000000               0.0  40822.000000  \n",
       "75%             0.000000               0.0  55743.000000  \n",
       "max            12.000000               0.0  96465.000000  "
      ]
     },
     "execution_count": 17,
     "metadata": {},
     "output_type": "execute_result"
    }
   ],
   "source": [
    "df[df['registrationyear'] >= 2023].describe()"
   ]
  },
  {
   "cell_type": "code",
   "execution_count": 18,
   "metadata": {
    "scrolled": false
   },
   "outputs": [
    {
     "data": {
      "image/png": "[encoded data removed]",
      "text/plain": [
       "<Figure size 1152x576 with 4 Axes>"
      ]
     },
     "metadata": {},
     "output_type": "display_data"
    }
   ],
   "source": [
    "sns.set_style('white')\n",
    "fig, ax = plt.subplots(nrows=2, ncols=2, figsize=(16,8))\n",
    "\n",
    "sns.boxplot(data=df, x='price',ax=ax[0,0])\n",
    "sns.boxplot(data=df, x='registrationyear',ax=ax[0,1])\n",
    "sns.boxplot(data=df, x='power',ax=ax[1,0])\n",
    "sns.boxplot(data=df, x='mileage',ax=ax[1,1])\n",
    "\n",
    "fig.suptitle('Boxplot for Numerical Data', y=0.95,fontsize=16)\n",
    "plt.show()"
   ]
  },
  {
   "cell_type": "code",
   "execution_count": 19,
   "metadata": {
    "scrolled": false
   },
   "outputs": [
    {
     "data": {
      "image/png": "[encoded data removed]",
      "text/plain": [
       "<Figure size 1152x576 with 4 Axes>"
      ]
     },
     "metadata": {},
     "output_type": "display_data"
    }
   ],
   "source": [
    "sns.set_style('white')\n",
    "fig, ax = plt.subplots(nrows=2, ncols=2, figsize=(16,8),sharex=False)\n",
    "\n",
    "sns.histplot(data=df, x='price',kde=True,ax=ax[0,0])\n",
    "sns.histplot(data=df, x='registrationyear',kde=True,ax=ax[0,1])\n",
    "sns.histplot(data=df, x='power',kde=True,ax=ax[1,0])\n",
    "sns.histplot(data=df, x='mileage',kde=True,ax=ax[1,1])\n",
    "\n",
    "fig.suptitle('Histogram for Numerical Data', y=0.95,fontsize=16)\n",
    "plt.show()"
   ]
  },
  {
   "cell_type": "code",
   "execution_count": 20,
   "metadata": {
    "scrolled": false
   },
   "outputs": [
    {
     "data": {
      "image/png": "[encoded data removed]",
      "text/plain": [
       "<Figure size 1152x288 with 1 Axes>"
      ]
     },
     "metadata": {},
     "output_type": "display_data"
    }
   ],
   "source": [
    "plt.figure(figsize=(16,4))\n",
    "sns.scatterplot(data=df, x='registrationyear', y='power')\n",
    "plt.show()"
   ]
  },
  {
   "cell_type": "markdown",
   "metadata": {},
   "source": [
    "#### 3.1.5. Key Findings"
   ]
  },
  {
   "cell_type": "markdown",
   "metadata": {},
   "source": [
    "* The dataset is composed of 354,369 rows and 16 columns.\n",
    "* `DateCrawled, DateCreated, and LastSeen` is in the wrong datatype.\n",
    "* There are 262 duplicated rows.\n",
    "* There are 181,077 missing data in these columns: `VehicleType; Gearbox; Model; FuelType; and NotRepaired`.\n",
    " * Missing data for `VehicleType` are in vehicles with newer registration dates.\n",
    " * `NotRepaired` data are missing more frequently in older registered vehicles.\n",
    " * Other missing data seems to be appearing at random.\n",
    "* There are outliers in `RegistrationYear, and Power` columns.\n",
    "    * Vehicles with `RegistrationYear` far in the future (after 2019) and after maximum `DateCrawled` which is illogical.\n",
    "    * Vehicles with `Power` more than 2,012 hp is illogical as typical vehicles have 180-200 hp and the highest ever reached is 2,012 hp.\n",
    "* There are columns with `RegistrationMonth` equals to 0 which is illogical.\n",
    "* All the values in `NumberOfPictures` column equal to 0."
   ]
  },
  {
   "cell_type": "markdown",
   "metadata": {},
   "source": [
    "### 3.2. Data Preparation <a id='2'></a>"
   ]
  },
  {
   "cell_type": "markdown",
   "metadata": {},
   "source": [
    "#### 3.2.1. Data Cleaning <a id='21'></a>"
   ]
  },
  {
   "cell_type": "markdown",
   "metadata": {},
   "source": [
    "##### 3.2.1.1. Datatype Validation"
   ]
  },
  {
   "cell_type": "markdown",
   "metadata": {},
   "source": [
    "DateCrawled, DateCreated, and LastSeen will be changed into datetime format."
   ]
  },
  {
   "cell_type": "code",
   "execution_count": 21,
   "metadata": {},
   "outputs": [],
   "source": [
    "df['datecrawled'] = pd.to_datetime(df['datecrawled'], utc=True)\n",
    "df['datecreated'] = pd.to_datetime(df['datecreated'], utc=True)\n",
    "df['lastseen'] = pd.to_datetime(df['lastseen'], utc=True)"
   ]
  },
  {
   "cell_type": "code",
   "execution_count": 22,
   "metadata": {
    "scrolled": false
   },
   "outputs": [
    {
     "data": {
      "text/plain": [
       "datecrawled          datetime64[ns, UTC]\n",
       "price                              int64\n",
       "vehicletype                       object\n",
       "registrationyear                   int64\n",
       "gearbox                           object\n",
       "power                              int64\n",
       "model                             object\n",
       "mileage                            int64\n",
       "registrationmonth                  int64\n",
       "fueltype                          object\n",
       "brand                             object\n",
       "notrepaired                       object\n",
       "datecreated          datetime64[ns, UTC]\n",
       "numberofpictures                   int64\n",
       "postalcode                         int64\n",
       "lastseen             datetime64[ns, UTC]\n",
       "dtype: object"
      ]
     },
     "execution_count": 22,
     "metadata": {},
     "output_type": "execute_result"
    }
   ],
   "source": [
    "df.dtypes"
   ]
  },
  {
   "cell_type": "code",
   "execution_count": 23,
   "metadata": {
    "scrolled": false
   },
   "outputs": [
    {
     "data": {
      "text/plain": [
       "(Timestamp('2016-12-03 23:59:00+0000', tz='UTC'),\n",
       " Timestamp('2016-12-03 00:00:00+0000', tz='UTC'),\n",
       " Timestamp('2016-12-03 23:54:00+0000', tz='UTC'))"
      ]
     },
     "execution_count": 23,
     "metadata": {},
     "output_type": "execute_result"
    }
   ],
   "source": [
    "df['datecrawled'].max(), df['datecreated'].max(), df['lastseen'].max()"
   ]
  },
  {
   "cell_type": "code",
   "execution_count": 24,
   "metadata": {},
   "outputs": [
    {
     "data": {
      "text/plain": [
       "datetime.date(2016, 12, 3)"
      ]
     },
     "execution_count": 24,
     "metadata": {},
     "output_type": "execute_result"
    }
   ],
   "source": [
    "max_date = df['datecrawled'].dt.date.max()\n",
    "max_date"
   ]
  },
  {
   "cell_type": "markdown",
   "metadata": {},
   "source": [
    "##### 3.2.1.2. Duplicates"
   ]
  },
  {
   "cell_type": "markdown",
   "metadata": {},
   "source": [
    "Drop all duplicated values."
   ]
  },
  {
   "cell_type": "code",
   "execution_count": 25,
   "metadata": {},
   "outputs": [],
   "source": [
    "df.drop_duplicates(inplace=True)"
   ]
  },
  {
   "cell_type": "markdown",
   "metadata": {},
   "source": [
    "##### 3.2.1.3. Invalid Data"
   ]
  },
  {
   "cell_type": "markdown",
   "metadata": {},
   "source": [
    "Since data with registration year after 2023 and registration month equals to 0 are invalid, we will remove those values."
   ]
  },
  {
   "cell_type": "code",
   "execution_count": 26,
   "metadata": {},
   "outputs": [],
   "source": [
    "df = df[(df['registrationyear'] < 2023) & (df['registrationmonth'] > 0)]"
   ]
  },
  {
   "cell_type": "markdown",
   "metadata": {},
   "source": [
    "##### 3.2.1.4. Missing Values"
   ]
  },
  {
   "cell_type": "markdown",
   "metadata": {},
   "source": [
    "Check whether missing VehicleType, Gearbox, and FuelType values can be filled using available data in vehicles with the same brand and model."
   ]
  },
  {
   "cell_type": "code",
   "execution_count": 27,
   "metadata": {
    "scrolled": true
   },
   "outputs": [
    {
     "data": {
      "text/html": [
       "<div>\n",
       "<style scoped>\n",
       "    .dataframe tbody tr th:only-of-type {\n",
       "        vertical-align: middle;\n",
       "    }\n",
       "\n",
       "    .dataframe tbody tr th {\n",
       "        vertical-align: top;\n",
       "    }\n",
       "\n",
       "    .dataframe thead th {\n",
       "        text-align: right;\n",
       "    }\n",
       "</style>\n",
       "<table border=\"1\" class=\"dataframe\">\n",
       "  <thead>\n",
       "    <tr style=\"text-align: right;\">\n",
       "      <th></th>\n",
       "      <th>brand</th>\n",
       "      <th>model</th>\n",
       "      <th>vehicletype</th>\n",
       "      <th>gearbox</th>\n",
       "      <th>fueltype</th>\n",
       "    </tr>\n",
       "  </thead>\n",
       "  <tbody>\n",
       "    <tr>\n",
       "      <th>191838</th>\n",
       "      <td>smart</td>\n",
       "      <td>fortwo</td>\n",
       "      <td>convertible</td>\n",
       "      <td>auto</td>\n",
       "      <td>petrol</td>\n",
       "    </tr>\n",
       "    <tr>\n",
       "      <th>52357</th>\n",
       "      <td>ford</td>\n",
       "      <td>other</td>\n",
       "      <td>other</td>\n",
       "      <td>auto</td>\n",
       "      <td>petrol</td>\n",
       "    </tr>\n",
       "    <tr>\n",
       "      <th>271012</th>\n",
       "      <td>opel</td>\n",
       "      <td>NaN</td>\n",
       "      <td>NaN</td>\n",
       "      <td>manual</td>\n",
       "      <td>NaN</td>\n",
       "    </tr>\n",
       "    <tr>\n",
       "      <th>20334</th>\n",
       "      <td>audi</td>\n",
       "      <td>a4</td>\n",
       "      <td>wagon</td>\n",
       "      <td>manual</td>\n",
       "      <td>petrol</td>\n",
       "    </tr>\n",
       "    <tr>\n",
       "      <th>85023</th>\n",
       "      <td>opel</td>\n",
       "      <td>astra</td>\n",
       "      <td>wagon</td>\n",
       "      <td>manual</td>\n",
       "      <td>petrol</td>\n",
       "    </tr>\n",
       "    <tr>\n",
       "      <th>203100</th>\n",
       "      <td>peugeot</td>\n",
       "      <td>2_reihe</td>\n",
       "      <td>small</td>\n",
       "      <td>auto</td>\n",
       "      <td>petrol</td>\n",
       "    </tr>\n",
       "    <tr>\n",
       "      <th>66577</th>\n",
       "      <td>mercedes_benz</td>\n",
       "      <td>c_klasse</td>\n",
       "      <td>wagon</td>\n",
       "      <td>auto</td>\n",
       "      <td>gasoline</td>\n",
       "    </tr>\n",
       "    <tr>\n",
       "      <th>348973</th>\n",
       "      <td>mercedes_benz</td>\n",
       "      <td>c_klasse</td>\n",
       "      <td>sedan</td>\n",
       "      <td>manual</td>\n",
       "      <td>petrol</td>\n",
       "    </tr>\n",
       "    <tr>\n",
       "      <th>322529</th>\n",
       "      <td>porsche</td>\n",
       "      <td>cayenne</td>\n",
       "      <td>suv</td>\n",
       "      <td>auto</td>\n",
       "      <td>petrol</td>\n",
       "    </tr>\n",
       "    <tr>\n",
       "      <th>103785</th>\n",
       "      <td>volkswagen</td>\n",
       "      <td>polo</td>\n",
       "      <td>NaN</td>\n",
       "      <td>NaN</td>\n",
       "      <td>petrol</td>\n",
       "    </tr>\n",
       "    <tr>\n",
       "      <th>275751</th>\n",
       "      <td>volkswagen</td>\n",
       "      <td>caddy</td>\n",
       "      <td>wagon</td>\n",
       "      <td>auto</td>\n",
       "      <td>gasoline</td>\n",
       "    </tr>\n",
       "    <tr>\n",
       "      <th>241119</th>\n",
       "      <td>volvo</td>\n",
       "      <td>s60</td>\n",
       "      <td>sedan</td>\n",
       "      <td>manual</td>\n",
       "      <td>petrol</td>\n",
       "    </tr>\n",
       "    <tr>\n",
       "      <th>39924</th>\n",
       "      <td>bmw</td>\n",
       "      <td>3er</td>\n",
       "      <td>sedan</td>\n",
       "      <td>manual</td>\n",
       "      <td>petrol</td>\n",
       "    </tr>\n",
       "    <tr>\n",
       "      <th>94471</th>\n",
       "      <td>volkswagen</td>\n",
       "      <td>bora</td>\n",
       "      <td>wagon</td>\n",
       "      <td>manual</td>\n",
       "      <td>gasoline</td>\n",
       "    </tr>\n",
       "    <tr>\n",
       "      <th>344613</th>\n",
       "      <td>fiat</td>\n",
       "      <td>ducato</td>\n",
       "      <td>bus</td>\n",
       "      <td>manual</td>\n",
       "      <td>gasoline</td>\n",
       "    </tr>\n",
       "    <tr>\n",
       "      <th>331257</th>\n",
       "      <td>bmw</td>\n",
       "      <td>5er</td>\n",
       "      <td>wagon</td>\n",
       "      <td>manual</td>\n",
       "      <td>gasoline</td>\n",
       "    </tr>\n",
       "    <tr>\n",
       "      <th>351176</th>\n",
       "      <td>volkswagen</td>\n",
       "      <td>NaN</td>\n",
       "      <td>sedan</td>\n",
       "      <td>manual</td>\n",
       "      <td>petrol</td>\n",
       "    </tr>\n",
       "    <tr>\n",
       "      <th>109326</th>\n",
       "      <td>toyota</td>\n",
       "      <td>avensis</td>\n",
       "      <td>sedan</td>\n",
       "      <td>manual</td>\n",
       "      <td>petrol</td>\n",
       "    </tr>\n",
       "    <tr>\n",
       "      <th>242999</th>\n",
       "      <td>bmw</td>\n",
       "      <td>3er</td>\n",
       "      <td>coupe</td>\n",
       "      <td>manual</td>\n",
       "      <td>petrol</td>\n",
       "    </tr>\n",
       "    <tr>\n",
       "      <th>178995</th>\n",
       "      <td>fiat</td>\n",
       "      <td>seicento</td>\n",
       "      <td>small</td>\n",
       "      <td>NaN</td>\n",
       "      <td>petrol</td>\n",
       "    </tr>\n",
       "  </tbody>\n",
       "</table>\n",
       "</div>"
      ],
      "text/plain": [
       "                brand     model  vehicletype gearbox  fueltype\n",
       "191838          smart    fortwo  convertible    auto    petrol\n",
       "52357            ford     other        other    auto    petrol\n",
       "271012           opel       NaN          NaN  manual       NaN\n",
       "20334            audi        a4        wagon  manual    petrol\n",
       "85023            opel     astra        wagon  manual    petrol\n",
       "203100        peugeot   2_reihe        small    auto    petrol\n",
       "66577   mercedes_benz  c_klasse        wagon    auto  gasoline\n",
       "348973  mercedes_benz  c_klasse        sedan  manual    petrol\n",
       "322529        porsche   cayenne          suv    auto    petrol\n",
       "103785     volkswagen      polo          NaN     NaN    petrol\n",
       "275751     volkswagen     caddy        wagon    auto  gasoline\n",
       "241119          volvo       s60        sedan  manual    petrol\n",
       "39924             bmw       3er        sedan  manual    petrol\n",
       "94471      volkswagen      bora        wagon  manual  gasoline\n",
       "344613           fiat    ducato          bus  manual  gasoline\n",
       "331257            bmw       5er        wagon  manual  gasoline\n",
       "351176     volkswagen       NaN        sedan  manual    petrol\n",
       "109326         toyota   avensis        sedan  manual    petrol\n",
       "242999            bmw       3er        coupe  manual    petrol\n",
       "178995           fiat  seicento        small     NaN    petrol"
      ]
     },
     "execution_count": 27,
     "metadata": {},
     "output_type": "execute_result"
    }
   ],
   "source": [
    "df[df.notnull()==True][['brand','model','vehicletype','gearbox','fueltype']].sort_values(by=['brand','model']).sample(20, random_state=state)"
   ]
  },
  {
   "cell_type": "markdown",
   "metadata": {},
   "source": [
    "Based on samples above, it seems that even the same Brand and Model can have different VehicleType, Gearbox, and FuelType values."
   ]
  },
  {
   "cell_type": "markdown",
   "metadata": {},
   "source": [
    "Therefore, we will just remove all the missing values listwise."
   ]
  },
  {
   "cell_type": "code",
   "execution_count": 28,
   "metadata": {},
   "outputs": [
    {
     "name": "stdout",
     "output_type": "stream",
     "text": [
      "Resulting dataset without missing values has 238036 rows and 238036 columns.\n"
     ]
    }
   ],
   "source": [
    "df.dropna(inplace=True)\n",
    "print('Resulting dataset without missing values has', df.shape[0], 'rows and', df.shape[0], 'columns.')"
   ]
  },
  {
   "cell_type": "markdown",
   "metadata": {},
   "source": [
    "##### 3.2.1.5. Outliers"
   ]
  },
  {
   "cell_type": "markdown",
   "metadata": {},
   "source": [
    "Remove vehicles with registration year before lower bound and after upper bound."
   ]
  },
  {
   "cell_type": "code",
   "execution_count": 29,
   "metadata": {},
   "outputs": [
    {
     "data": {
      "text/plain": [
       "(1987.0, 2017)"
      ]
     },
     "execution_count": 29,
     "metadata": {},
     "output_type": "execute_result"
    }
   ],
   "source": [
    "iqr = st.iqr(df['registrationyear'])\n",
    "lower = df['registrationyear'].quantile(0.25) - 1.5*iqr\n",
    "upper = min(df['registrationyear'].quantile(0.75) + 1.5*iqr, max_date.year+1)\n",
    "lower,upper"
   ]
  },
  {
   "cell_type": "code",
   "execution_count": 30,
   "metadata": {},
   "outputs": [
    {
     "name": "stdout",
     "output_type": "stream",
     "text": [
      "Number of rows with registrationyear outlier to be removed = 3069\n"
     ]
    }
   ],
   "source": [
    "print('Number of rows with registrationyear outlier to be removed =', df[(df['registrationyear'] < lower) | (df['registrationyear'] > upper)].shape[0])"
   ]
  },
  {
   "cell_type": "code",
   "execution_count": 31,
   "metadata": {},
   "outputs": [],
   "source": [
    "df = df[(df['registrationyear'] > lower) & (df['registrationyear'] < upper)]"
   ]
  },
  {
   "cell_type": "code",
   "execution_count": 32,
   "metadata": {
    "scrolled": false
   },
   "outputs": [
    {
     "data": {
      "image/png": "[encoded data removed]",
      "text/plain": [
       "<Figure size 1152x288 with 2 Axes>"
      ]
     },
     "metadata": {},
     "output_type": "display_data"
    }
   ],
   "source": [
    "fig, ax = plt.subplots(1,2,figsize=(16,4))\n",
    "sns.boxplot(data=df, x='registrationyear',ax=ax[0])\n",
    "sns.histplot(data=df, x='registrationyear',kde=True,ax=ax[1])\n",
    "fig.suptitle('Registration Year Distribution Without Outliers', y=0.98,fontsize=16)\n",
    "plt.show()"
   ]
  },
  {
   "cell_type": "markdown",
   "metadata": {},
   "source": [
    "Remove vehicles with power less than lower bound and more than upper bound."
   ]
  },
  {
   "cell_type": "code",
   "execution_count": 33,
   "metadata": {},
   "outputs": [
    {
     "data": {
      "text/plain": [
       "(-37.5, 262.5)"
      ]
     },
     "execution_count": 33,
     "metadata": {},
     "output_type": "execute_result"
    }
   ],
   "source": [
    "iqr = st.iqr(df['power'])\n",
    "lower = df['power'].quantile(0.25) - 1.5*iqr\n",
    "upper = df['power'].quantile(0.75) + 1.5*iqr\n",
    "lower,upper"
   ]
  },
  {
   "cell_type": "code",
   "execution_count": 34,
   "metadata": {},
   "outputs": [
    {
     "name": "stdout",
     "output_type": "stream",
     "text": [
      "Number of rows with power outlier to be removed = 4877\n"
     ]
    }
   ],
   "source": [
    "print('Number of rows with power outlier to be removed =', df[(df['power'] < lower) | (df['power'] > upper)].shape[0])"
   ]
  },
  {
   "cell_type": "code",
   "execution_count": 35,
   "metadata": {},
   "outputs": [],
   "source": [
    "df = df[(df['power'] > lower) & (df['power'] < upper)]"
   ]
  },
  {
   "cell_type": "code",
   "execution_count": 36,
   "metadata": {},
   "outputs": [
    {
     "data": {
      "image/png": "[encoded data removed]",
      "text/plain": [
       "<Figure size 1152x288 with 2 Axes>"
      ]
     },
     "metadata": {},
     "output_type": "display_data"
    }
   ],
   "source": [
    "fig, ax = plt.subplots(1,2,figsize=(16,4))\n",
    "sns.boxplot(data=df, x='power',ax=ax[0])\n",
    "sns.histplot(data=df, x='power',kde=True,ax=ax[1])\n",
    "fig.suptitle('Power Distribution Without Outliers', y=0.98,fontsize=16)\n",
    "plt.show()"
   ]
  },
  {
   "cell_type": "markdown",
   "metadata": {},
   "source": [
    "After removing the outliers, we get a more representative dataset for further model training."
   ]
  },
  {
   "cell_type": "code",
   "execution_count": 37,
   "metadata": {
    "scrolled": false
   },
   "outputs": [
    {
     "data": {
      "image/png": "[encoded data removed]",
      "text/plain": [
       "<Figure size 1152x576 with 4 Axes>"
      ]
     },
     "metadata": {},
     "output_type": "display_data"
    }
   ],
   "source": [
    "sns.set_style('white')\n",
    "fig, ax = plt.subplots(nrows=2, ncols=2, figsize=(16,8),sharex=False)\n",
    "\n",
    "sns.histplot(data=df, x='price',kde=True,ax=ax[0,0])\n",
    "sns.histplot(data=df, x='registrationyear',kde=True,ax=ax[0,1])\n",
    "sns.histplot(data=df, x='power',kde=True,ax=ax[1,0])\n",
    "sns.histplot(data=df, x='mileage',kde=True,ax=ax[1,1])\n",
    "\n",
    "fig.suptitle('Histogram for Numerical Data Without Outliers', y=0.95,fontsize=16)\n",
    "plt.show()"
   ]
  },
  {
   "cell_type": "code",
   "execution_count": 38,
   "metadata": {
    "scrolled": true
   },
   "outputs": [
    {
     "data": {
      "image/png": "[encoded data removed]",
      "text/plain": [
       "<Figure size 1152x288 with 1 Axes>"
      ]
     },
     "metadata": {},
     "output_type": "display_data"
    }
   ],
   "source": [
    "plt.figure(figsize=(16,4))\n",
    "sns.scatterplot(data=df, x='registrationyear', y='power')\n",
    "plt.show()"
   ]
  },
  {
   "cell_type": "markdown",
   "metadata": {},
   "source": [
    "#### 3.2.2. Derive New Variable <a id='22'></a>"
   ]
  },
  {
   "cell_type": "markdown",
   "metadata": {},
   "source": [
    "Derive new variable age which is the difference between maximum date and registration date (combination of registration year and month)."
   ]
  },
  {
   "cell_type": "code",
   "execution_count": 39,
   "metadata": {},
   "outputs": [],
   "source": [
    "df['registrationdate'] = df.apply(lambda x: str(x['registrationyear']) + '/' + str(x['registrationmonth']) + '/01', axis=1)"
   ]
  },
  {
   "cell_type": "code",
   "execution_count": 40,
   "metadata": {},
   "outputs": [],
   "source": [
    "df['registrationdate'] = pd.to_datetime(df['registrationdate'],utc=True)"
   ]
  },
  {
   "cell_type": "code",
   "execution_count": 41,
   "metadata": {
    "scrolled": true
   },
   "outputs": [
    {
     "data": {
      "text/plain": [
       "3    2001-06-01 00:00:00+00:00\n",
       "4    2008-07-01 00:00:00+00:00\n",
       "5    1995-10-01 00:00:00+00:00\n",
       "6    2004-08-01 00:00:00+00:00\n",
       "10   2004-12-01 00:00:00+00:00\n",
       "Name: registrationdate, dtype: datetime64[ns, UTC]"
      ]
     },
     "execution_count": 41,
     "metadata": {},
     "output_type": "execute_result"
    }
   ],
   "source": [
    "df['registrationdate'].head(5)"
   ]
  },
  {
   "cell_type": "code",
   "execution_count": 42,
   "metadata": {
    "scrolled": true
   },
   "outputs": [
    {
     "data": {
      "text/plain": [
       "count    229701.000000\n",
       "mean       4777.663119\n",
       "std        1950.425877\n",
       "min           2.000000\n",
       "25%        3320.000000\n",
       "50%        4720.000000\n",
       "75%        6212.000000\n",
       "max       10564.000000\n",
       "Name: age, dtype: float64"
      ]
     },
     "execution_count": 42,
     "metadata": {},
     "output_type": "execute_result"
    }
   ],
   "source": [
    "df['age'] = max_date - df['registrationdate'].dt.date\n",
    "df['age'] = df['age'] / timedelta(days=1)\n",
    "df['age'].describe()"
   ]
  },
  {
   "cell_type": "code",
   "execution_count": 43,
   "metadata": {},
   "outputs": [],
   "source": [
    "df['age'] = df['age'].astype(int)"
   ]
  },
  {
   "cell_type": "markdown",
   "metadata": {},
   "source": [
    "## 4. Model Training <a id='train'></a>"
   ]
  },
  {
   "cell_type": "markdown",
   "metadata": {},
   "source": [
    "### 4.1. Defining Features and Targets <a id='3'></a>"
   ]
  },
  {
   "cell_type": "markdown",
   "metadata": {},
   "source": [
    "Define features and targets."
   ]
  },
  {
   "cell_type": "code",
   "execution_count": 44,
   "metadata": {},
   "outputs": [],
   "source": [
    "features = df.drop(['datecrawled','datecreated','lastseen',\n",
    "                    'registrationyear','registrationmonth','registrationdate','price'],axis=1)\n",
    "target = df['price']"
   ]
  },
  {
   "cell_type": "code",
   "execution_count": 45,
   "metadata": {
    "scrolled": false
   },
   "outputs": [
    {
     "data": {
      "text/plain": [
       "Index(['vehicletype', 'gearbox', 'power', 'model', 'mileage', 'fueltype',\n",
       "       'brand', 'notrepaired', 'numberofpictures', 'postalcode', 'age'],\n",
       "      dtype='object')"
      ]
     },
     "execution_count": 45,
     "metadata": {},
     "output_type": "execute_result"
    }
   ],
   "source": [
    "features.columns"
   ]
  },
  {
   "cell_type": "code",
   "execution_count": 46,
   "metadata": {
    "scrolled": true
   },
   "outputs": [],
   "source": [
    "numerical = ['power','mileage','numberofpictures','postalcode','age']\n",
    "categorical = set(features.columns).difference(numerical)"
   ]
  },
  {
   "cell_type": "markdown",
   "metadata": {},
   "source": [
    "Encode features categorical columns."
   ]
  },
  {
   "cell_type": "code",
   "execution_count": 47,
   "metadata": {},
   "outputs": [],
   "source": [
    "features_en = pd.get_dummies(features, drop_first=True)"
   ]
  },
  {
   "cell_type": "code",
   "execution_count": 48,
   "metadata": {},
   "outputs": [
    {
     "data": {
      "text/html": [
       "<div>\n",
       "<style scoped>\n",
       "    .dataframe tbody tr th:only-of-type {\n",
       "        vertical-align: middle;\n",
       "    }\n",
       "\n",
       "    .dataframe tbody tr th {\n",
       "        vertical-align: top;\n",
       "    }\n",
       "\n",
       "    .dataframe thead th {\n",
       "        text-align: right;\n",
       "    }\n",
       "</style>\n",
       "<table border=\"1\" class=\"dataframe\">\n",
       "  <thead>\n",
       "    <tr style=\"text-align: right;\">\n",
       "      <th></th>\n",
       "      <th>power</th>\n",
       "      <th>mileage</th>\n",
       "      <th>numberofpictures</th>\n",
       "      <th>postalcode</th>\n",
       "      <th>age</th>\n",
       "      <th>vehicletype_convertible</th>\n",
       "      <th>vehicletype_coupe</th>\n",
       "      <th>vehicletype_other</th>\n",
       "      <th>vehicletype_sedan</th>\n",
       "      <th>vehicletype_small</th>\n",
       "      <th>...</th>\n",
       "      <th>brand_seat</th>\n",
       "      <th>brand_skoda</th>\n",
       "      <th>brand_smart</th>\n",
       "      <th>brand_subaru</th>\n",
       "      <th>brand_suzuki</th>\n",
       "      <th>brand_toyota</th>\n",
       "      <th>brand_trabant</th>\n",
       "      <th>brand_volkswagen</th>\n",
       "      <th>brand_volvo</th>\n",
       "      <th>notrepaired_yes</th>\n",
       "    </tr>\n",
       "  </thead>\n",
       "  <tbody>\n",
       "    <tr>\n",
       "      <th>3</th>\n",
       "      <td>75</td>\n",
       "      <td>150000</td>\n",
       "      <td>0</td>\n",
       "      <td>91074</td>\n",
       "      <td>5664</td>\n",
       "      <td>0</td>\n",
       "      <td>0</td>\n",
       "      <td>0</td>\n",
       "      <td>0</td>\n",
       "      <td>1</td>\n",
       "      <td>...</td>\n",
       "      <td>0</td>\n",
       "      <td>0</td>\n",
       "      <td>0</td>\n",
       "      <td>0</td>\n",
       "      <td>0</td>\n",
       "      <td>0</td>\n",
       "      <td>0</td>\n",
       "      <td>1</td>\n",
       "      <td>0</td>\n",
       "      <td>0</td>\n",
       "    </tr>\n",
       "  </tbody>\n",
       "</table>\n",
       "<p>1 rows × 303 columns</p>\n",
       "</div>"
      ],
      "text/plain": [
       "   power  mileage  numberofpictures  postalcode   age  \\\n",
       "3     75   150000                 0       91074  5664   \n",
       "\n",
       "   vehicletype_convertible  vehicletype_coupe  vehicletype_other  \\\n",
       "3                        0                  0                  0   \n",
       "\n",
       "   vehicletype_sedan  vehicletype_small  ...  brand_seat  brand_skoda  \\\n",
       "3                  0                  1  ...           0            0   \n",
       "\n",
       "   brand_smart  brand_subaru  brand_suzuki  brand_toyota  brand_trabant  \\\n",
       "3            0             0             0             0              0   \n",
       "\n",
       "   brand_volkswagen  brand_volvo  notrepaired_yes  \n",
       "3                 1            0                0  \n",
       "\n",
       "[1 rows x 303 columns]"
      ]
     },
     "execution_count": 48,
     "metadata": {},
     "output_type": "execute_result"
    }
   ],
   "source": [
    "features_en.head(1)"
   ]
  },
  {
   "cell_type": "code",
   "execution_count": 49,
   "metadata": {},
   "outputs": [],
   "source": [
    "categorical_en = set(features_en.columns).difference(numerical)"
   ]
  },
  {
   "cell_type": "markdown",
   "metadata": {},
   "source": [
    "Split target columns."
   ]
  },
  {
   "cell_type": "code",
   "execution_count": 50,
   "metadata": {},
   "outputs": [],
   "source": [
    "target_train, target_valid = train_test_split(target, test_size=0.3, random_state=state)"
   ]
  },
  {
   "cell_type": "code",
   "execution_count": 51,
   "metadata": {},
   "outputs": [
    {
     "data": {
      "text/plain": [
       "((160790,), (68911,))"
      ]
     },
     "execution_count": 51,
     "metadata": {},
     "output_type": "execute_result"
    }
   ],
   "source": [
    "target_train.shape, target_valid.shape"
   ]
  },
  {
   "cell_type": "markdown",
   "metadata": {},
   "source": [
    "Split features columns."
   ]
  },
  {
   "cell_type": "code",
   "execution_count": 52,
   "metadata": {},
   "outputs": [],
   "source": [
    "features_train = features.loc[target_train.index,:]\n",
    "features_valid = features.loc[target_valid.index,:]\n",
    "features_train_en = features_en.loc[target_train.index,:]\n",
    "features_valid_en = features_en.loc[target_valid.index,:]"
   ]
  },
  {
   "cell_type": "code",
   "execution_count": 53,
   "metadata": {},
   "outputs": [
    {
     "data": {
      "text/plain": [
       "((160790, 11), (68911, 11), (160790, 303), (68911, 303))"
      ]
     },
     "execution_count": 53,
     "metadata": {},
     "output_type": "execute_result"
    }
   ],
   "source": [
    "features_train.shape, features_valid.shape, features_train_en.shape, features_valid_en.shape"
   ]
  },
  {
   "cell_type": "markdown",
   "metadata": {},
   "source": [
    "Standardize numerical feature columns."
   ]
  },
  {
   "cell_type": "code",
   "execution_count": 54,
   "metadata": {
    "scrolled": false
   },
   "outputs": [
    {
     "data": {
      "text/plain": [
       "StandardScaler()"
      ]
     },
     "execution_count": 54,
     "metadata": {},
     "output_type": "execute_result"
    }
   ],
   "source": [
    "scaler = StandardScaler()\n",
    "scaler.fit(features_train_en[numerical])"
   ]
  },
  {
   "cell_type": "code",
   "execution_count": 55,
   "metadata": {},
   "outputs": [],
   "source": [
    "features_train_num_std = pd.DataFrame(scaler.transform(features_train[numerical]), columns=numerical, index=features_train.index)\n",
    "features_valid_num_std = pd.DataFrame(scaler.transform(features_valid[numerical]), columns=numerical, index=features_valid.index)"
   ]
  },
  {
   "cell_type": "markdown",
   "metadata": {},
   "source": [
    "Combine encoded and standardized columns."
   ]
  },
  {
   "cell_type": "code",
   "execution_count": 56,
   "metadata": {},
   "outputs": [],
   "source": [
    "features_train_std = pd.concat([features_train_num_std, features_train[categorical]], axis=1)\n",
    "features_valid_std = pd.concat([features_valid_num_std, features_valid[categorical]], axis=1)"
   ]
  },
  {
   "cell_type": "code",
   "execution_count": 57,
   "metadata": {},
   "outputs": [],
   "source": [
    "features_train_std_en = pd.concat([features_train_num_std, features_train_en[categorical_en]], axis=1)\n",
    "features_valid_std_en = pd.concat([features_valid_num_std, features_valid_en[categorical_en]], axis=1)"
   ]
  },
  {
   "cell_type": "code",
   "execution_count": 58,
   "metadata": {
    "scrolled": true
   },
   "outputs": [
    {
     "data": {
      "text/plain": [
       "((160790, 303), (68911, 303))"
      ]
     },
     "execution_count": 58,
     "metadata": {},
     "output_type": "execute_result"
    }
   ],
   "source": [
    "features_train_std_en.shape, features_valid_std_en.shape"
   ]
  },
  {
   "cell_type": "markdown",
   "metadata": {},
   "source": [
    "### 4.2. Defining Evaluation Metrics <a id='4'></a>"
   ]
  },
  {
   "cell_type": "code",
   "execution_count": 59,
   "metadata": {},
   "outputs": [],
   "source": [
    "def rmse(target, prediction):\n",
    "    return mean_squared_error(target, prediction)**0.5"
   ]
  },
  {
   "cell_type": "code",
   "execution_count": 60,
   "metadata": {},
   "outputs": [],
   "source": [
    "rmse_score = make_scorer(rmse, greater_is_better=False)"
   ]
  },
  {
   "cell_type": "markdown",
   "metadata": {},
   "source": [
    "### 4.3. Model Training <a id='5'></a>"
   ]
  },
  {
   "cell_type": "markdown",
   "metadata": {},
   "source": [
    "#### 4.3.1. Linear Regression <a id='51'></a>"
   ]
  },
  {
   "cell_type": "code",
   "execution_count": 61,
   "metadata": {
    "scrolled": false
   },
   "outputs": [
    {
     "name": "stdout",
     "output_type": "stream",
     "text": [
      "RMSE = [-2.24296705e+03 -2.31109110e+03 -2.27082100e+03 -3.22975808e+10\n",
      " -1.34648950e+08]\n",
      "Average RMSE = -6486447316.297686\n"
     ]
    }
   ],
   "source": [
    "model_lr = LinearRegression()\n",
    "score_lr = cross_val_score(model_lr, features_train_std_en, target_train, cv=5, scoring=rmse_score)\n",
    "print('RMSE =', score_lr)\n",
    "print('Average RMSE =', score_lr.mean())"
   ]
  },
  {
   "cell_type": "markdown",
   "metadata": {},
   "source": [
    "#### 4.3.2. Random Forest Regressor <a id='52'></a>"
   ]
  },
  {
   "cell_type": "markdown",
   "metadata": {},
   "source": [
    "Create dictionary of hyperparameters for model training."
   ]
  },
  {
   "cell_type": "code",
   "execution_count": 62,
   "metadata": {},
   "outputs": [],
   "source": [
    "parameters_rfr = {'n_estimators' : list(np.arange(15,21,5)),\n",
    "                 'max_depth' : list(np.arange(16,19,2))}"
   ]
  },
  {
   "cell_type": "code",
   "execution_count": 63,
   "metadata": {},
   "outputs": [],
   "source": [
    "model_rfr = RandomForestRegressor(random_state=state, criterion='mse')\n",
    "\n",
    "grid_rfr = GridSearchCV(model_rfr, param_grid=parameters_rfr, scoring=rmse_score, cv=5)\n",
    "grid_rfr_fit = grid_rfr.fit(features_train_std_en, target_train)"
   ]
  },
  {
   "cell_type": "code",
   "execution_count": 64,
   "metadata": {},
   "outputs": [
    {
     "name": "stdout",
     "output_type": "stream",
     "text": [
      "RandomForestRegressor(max_depth=18, n_estimators=20,\n",
      "                      random_state=RandomState(MT19937) at 0x7F9AB0CED740)\n",
      "-1597.7797238038415\n"
     ]
    }
   ],
   "source": [
    "print(grid_rfr_fit.best_estimator_)\n",
    "print(grid_rfr_fit.best_score_)"
   ]
  },
  {
   "cell_type": "markdown",
   "metadata": {},
   "source": [
    "#### 4.3.3. LightGBM <a id='53'></a>"
   ]
  },
  {
   "cell_type": "code",
   "execution_count": 65,
   "metadata": {},
   "outputs": [],
   "source": [
    "parameters = {'learning_rate': list(np.linspace(0.2,0.4,2)),\n",
    "             'max_depth' : list(np.arange(16,19,2))}"
   ]
  },
  {
   "cell_type": "code",
   "execution_count": 66,
   "metadata": {},
   "outputs": [],
   "source": [
    "model_lgb = LGBMRegressor(random_state=state, metric='rmse')\n",
    "\n",
    "grid_lgb = GridSearchCV(model_lgb, param_grid=parameters, scoring=rmse_score, cv=5)\n",
    "grid_lgb_fit = grid_lgb.fit(features_train_std_en, target_train)"
   ]
  },
  {
   "cell_type": "code",
   "execution_count": 67,
   "metadata": {
    "scrolled": true
   },
   "outputs": [
    {
     "name": "stdout",
     "output_type": "stream",
     "text": [
      "LGBMRegressor(learning_rate=0.4, max_depth=16, metric='rmse',\n",
      "              random_state=RandomState(MT19937) at 0x7F9AB0CEDA40)\n",
      "-1568.9274419927776\n"
     ]
    }
   ],
   "source": [
    "print(grid_lgb_fit.best_estimator_)\n",
    "print(grid_lgb_fit.best_score_)"
   ]
  },
  {
   "cell_type": "markdown",
   "metadata": {},
   "source": [
    "#### 4.3.4. XGBoost <a id='54'></a>"
   ]
  },
  {
   "cell_type": "code",
   "execution_count": 68,
   "metadata": {},
   "outputs": [
    {
     "name": "stdout",
     "output_type": "stream",
     "text": [
      "RMSE = [-1524.22143625 -1538.89917233 -1525.51757016]\n",
      "Average RMSE = -1529.5460595783854\n"
     ]
    }
   ],
   "source": [
    "model_xgb = XGBRegressor(seed=0, eval_metric='rmse', learning_rate=0.2, max_depth=10)\n",
    "score_xgb = cross_val_score(model_xgb,features_train_std_en, target_train, cv=3, scoring=rmse_score)\n",
    "print('RMSE =', score_xgb)\n",
    "print('Average RMSE =', score_xgb.mean())"
   ]
  },
  {
   "cell_type": "markdown",
   "metadata": {},
   "source": [
    "#### 4.3.5. CatBoost <a id='55'></a>"
   ]
  },
  {
   "cell_type": "code",
   "execution_count": 69,
   "metadata": {
    "scrolled": false
   },
   "outputs": [
    {
     "name": "stdout",
     "output_type": "stream",
     "text": [
      "0:\tlearn: 4292.2282328\ttotal: 164ms\tremaining: 2m 43s\n",
      "500:\tlearn: 1375.5484613\ttotal: 51.3s\tremaining: 51.1s\n",
      "999:\tlearn: 1256.6186797\ttotal: 1m 42s\tremaining: 0us\n",
      "0:\tlearn: 4281.8669245\ttotal: 95.8ms\tremaining: 1m 35s\n",
      "500:\tlearn: 1367.5598457\ttotal: 51.4s\tremaining: 51.2s\n",
      "999:\tlearn: 1250.6628727\ttotal: 1m 42s\tremaining: 0us\n",
      "0:\tlearn: 4281.2995861\ttotal: 99.2ms\tremaining: 1m 39s\n",
      "500:\tlearn: 1373.8722962\ttotal: 48.1s\tremaining: 47.9s\n",
      "999:\tlearn: 1261.9204248\ttotal: 1m 36s\tremaining: 0us\n",
      "RMSE = [-1488.62637951 -1500.88812482 -1499.16218489]\n",
      "Average RMSE = -1496.2255630759762\n"
     ]
    }
   ],
   "source": [
    "model_cb = CatBoostRegressor(random_seed=0, loss_function=\"RMSE\", learning_rate=0.1, max_depth=10, verbose=500)\n",
    "score_cb = cross_val_score(model_cb, features_train_std_en, target_train, cv=3, scoring=rmse_score)\n",
    "print('RMSE =', score_cb)\n",
    "print('Average RMSE =', score_cb.mean())"
   ]
  },
  {
   "cell_type": "markdown",
   "metadata": {},
   "source": [
    "## 5. Model Analysis <a id='ana'></a>"
   ]
  },
  {
   "cell_type": "markdown",
   "metadata": {},
   "source": [
    "We will use the best parameter and default hyperparameter setting for analysis."
   ]
  },
  {
   "cell_type": "code",
   "execution_count": 70,
   "metadata": {},
   "outputs": [],
   "source": [
    "rmse_train = {}\n",
    "rmse_valid = {}\n",
    "training_time = {}\n",
    "prediction_time = {}"
   ]
  },
  {
   "cell_type": "markdown",
   "metadata": {},
   "source": [
    "### 5.1. Linear Regression <a id='61'></a>"
   ]
  },
  {
   "cell_type": "code",
   "execution_count": 71,
   "metadata": {},
   "outputs": [],
   "source": [
    "def rmse(target, prediction):\n",
    "    return mean_squared_error(target, prediction)**0.5"
   ]
  },
  {
   "cell_type": "code",
   "execution_count": 72,
   "metadata": {
    "scrolled": true
   },
   "outputs": [],
   "source": [
    "model_lr = LinearRegression()\n",
    "\n",
    "start_train = time.time()\n",
    "model_lr.fit(features_train_std_en, target_train)\n",
    "training_time['LinearRegression'] = time.time() - start_train\n",
    "\n",
    "start_predict = time.time()\n",
    "predicted_valid_lr = model_lr.predict(features_valid_std_en)\n",
    "prediction_time['LinearRegression'] = time.time() - start_predict\n",
    "\n",
    "predicted_train_lr = model_lr.predict(features_train_std_en)"
   ]
  },
  {
   "cell_type": "code",
   "execution_count": 76,
   "metadata": {},
   "outputs": [],
   "source": [
    "rmse_valid['LinearRegression'] = rmse(target_valid, predicted_valid_lr)\n",
    "rmse_train['LinearRegression'] = rmse(target_train, predicted_train_lr)"
   ]
  },
  {
   "cell_type": "code",
   "execution_count": 77,
   "metadata": {},
   "outputs": [
    {
     "name": "stdout",
     "output_type": "stream",
     "text": [
      "RMSE train set = 2269.218053645167\n",
      "RMSE valid set = 2279.8156289443327\n",
      "Training time: 12.101051807403564\n",
      "Prediction time: 0.13241958618164062\n"
     ]
    }
   ],
   "source": [
    "print('RMSE train set =', rmse_train['LinearRegression'])\n",
    "print('RMSE valid set =', rmse_valid['LinearRegression'])\n",
    "print(\"Training time:\", training_time['LinearRegression'])\n",
    "print(\"Prediction time:\", prediction_time['LinearRegression'])"
   ]
  },
  {
   "cell_type": "markdown",
   "metadata": {},
   "source": [
    "### 5.2. Random Forest Regressor <a id='62'></a>"
   ]
  },
  {
   "cell_type": "markdown",
   "metadata": {},
   "source": [
    "#### Default"
   ]
  },
  {
   "cell_type": "code",
   "execution_count": 78,
   "metadata": {},
   "outputs": [],
   "source": [
    "model_rfr_d = RandomForestRegressor(random_state=state)\n",
    "\n",
    "start_train = time.time()\n",
    "model_rfr_d.fit(features_train_std_en, target_train)\n",
    "training_time['RandomForest_Default'] = time.time() - start_train\n",
    "\n",
    "start_predict = time.time()\n",
    "predicted_valid_rfr = model_rfr_d.predict(features_valid_std_en)\n",
    "prediction_time['RandomForest_Default'] = time.time() - start_predict\n",
    "\n",
    "predicted_train_rfr = model_rfr_d.predict(features_train_std_en)"
   ]
  },
  {
   "cell_type": "code",
   "execution_count": 79,
   "metadata": {},
   "outputs": [],
   "source": [
    "rmse_valid['RandomForest_Default'] = rmse(target_valid, predicted_valid_rfr)\n",
    "rmse_train['RandomForest_Default'] = rmse(target_train, predicted_train_rfr)"
   ]
  },
  {
   "cell_type": "code",
   "execution_count": 80,
   "metadata": {},
   "outputs": [
    {
     "name": "stdout",
     "output_type": "stream",
     "text": [
      "RMSE train set = 581.7803972469337\n",
      "RMSE valid set = 1518.9981221159815\n",
      "Training time: 321.91933822631836\n",
      "Prediction time: 4.268805503845215\n"
     ]
    }
   ],
   "source": [
    "print('RMSE train set =', rmse_train['RandomForest_Default'])\n",
    "print('RMSE valid set =', rmse_valid['RandomForest_Default'])\n",
    "print(\"Training time:\", training_time['RandomForest_Default'])\n",
    "print(\"Prediction time:\", prediction_time['RandomForest_Default'])"
   ]
  },
  {
   "cell_type": "markdown",
   "metadata": {},
   "source": [
    "#### Best Hyperparameters"
   ]
  },
  {
   "cell_type": "code",
   "execution_count": 81,
   "metadata": {},
   "outputs": [],
   "source": [
    "model_rfr_b = RandomForestRegressor(random_state=state, criterion='mse', n_estimators=20 ,max_depth=18)\n",
    "\n",
    "start_train = time.time()\n",
    "model_rfr_b.fit(features_train_std_en, target_train)\n",
    "training_time['RandomForest_Best'] = time.time() - start_train\n",
    "\n",
    "start_predict = time.time()\n",
    "predicted_valid_rfr = model_rfr_b.predict(features_valid_std_en)\n",
    "prediction_time['RandomForest_Best'] = time.time() - start_predict\n",
    "\n",
    "predicted_train_rfr = model_rfr_b.predict(features_train_std_en)"
   ]
  },
  {
   "cell_type": "code",
   "execution_count": 82,
   "metadata": {},
   "outputs": [],
   "source": [
    "rmse_valid['RandomForest_Best'] = rmse(target_valid, predicted_valid_rfr)\n",
    "rmse_train['RandomForest_Best'] = rmse(target_train, predicted_train_rfr)"
   ]
  },
  {
   "cell_type": "code",
   "execution_count": 83,
   "metadata": {},
   "outputs": [
    {
     "name": "stdout",
     "output_type": "stream",
     "text": [
      "RMSE train set = 1098.3529041868433\n",
      "RMSE valid set = 1591.7196333468846\n",
      "Training time: 48.33392906188965\n",
      "Prediction time: 0.45217299461364746\n"
     ]
    }
   ],
   "source": [
    "print('RMSE train set =', rmse_train['RandomForest_Best'])\n",
    "print('RMSE valid set =', rmse_valid['RandomForest_Best'])\n",
    "print(\"Training time:\", training_time['RandomForest_Best'])\n",
    "print(\"Prediction time:\", prediction_time['RandomForest_Best'])"
   ]
  },
  {
   "cell_type": "markdown",
   "metadata": {},
   "source": [
    "### 5.3. LightGBM <a id='63'></a>"
   ]
  },
  {
   "cell_type": "markdown",
   "metadata": {},
   "source": [
    "#### Default"
   ]
  },
  {
   "cell_type": "code",
   "execution_count": 84,
   "metadata": {},
   "outputs": [],
   "source": [
    "model_lgb_d = LGBMRegressor(random_state=state, metric='rmse')\n",
    "\n",
    "start_train = time.time()\n",
    "model_lgb_d.fit(features_train_std_en, target_train)\n",
    "training_time['LightGBM_Default'] = time.time() - start_train\n",
    "\n",
    "start_predict = time.time()\n",
    "predicted_valid_lgb = model_lgb_d.predict(features_valid_std_en)\n",
    "prediction_time['LightGBM_Default'] = time.time() - start_predict\n",
    "\n",
    "predicted_train_lgb = model_lgb_d.predict(features_train_std_en)"
   ]
  },
  {
   "cell_type": "code",
   "execution_count": 85,
   "metadata": {},
   "outputs": [],
   "source": [
    "rmse_valid['LightGBM_Default'] = rmse(target_valid, predicted_valid_lgb)\n",
    "rmse_train['LightGBM_Default'] = rmse(target_train, predicted_train_lgb)"
   ]
  },
  {
   "cell_type": "code",
   "execution_count": 86,
   "metadata": {},
   "outputs": [
    {
     "name": "stdout",
     "output_type": "stream",
     "text": [
      "RMSE train set = 1579.329082403732\n",
      "RMSE valid set = 1605.200825030955\n",
      "Training time: 6.859330654144287\n",
      "Prediction time: 0.9216184616088867\n"
     ]
    }
   ],
   "source": [
    "print('RMSE train set =', rmse_train['LightGBM_Default'])\n",
    "print('RMSE valid set =', rmse_valid['LightGBM_Default'])\n",
    "print(\"Training time:\", training_time['LightGBM_Default'])\n",
    "print(\"Prediction time:\", prediction_time['LightGBM_Default'])"
   ]
  },
  {
   "cell_type": "markdown",
   "metadata": {},
   "source": [
    "#### Best Hyperparameters"
   ]
  },
  {
   "cell_type": "code",
   "execution_count": 87,
   "metadata": {},
   "outputs": [],
   "source": [
    "model_lgb_b = LGBMRegressor(random_state=state, metric='rmse', learning_rate=0.4, max_depth=16)\n",
    "\n",
    "start_train = time.time()\n",
    "model_lgb_b.fit(features_train_std_en, target_train)\n",
    "training_time['LightGBM_Best'] = time.time() - start_train\n",
    "\n",
    "start_predict = time.time()\n",
    "predicted_valid_lgb = model_lgb_b.predict(features_valid_std_en)\n",
    "prediction_time['LightGBM_Best'] = time.time() - start_predict\n",
    "\n",
    "predicted_train_lgb = model_lgb_b.predict(features_train_std_en)"
   ]
  },
  {
   "cell_type": "code",
   "execution_count": 88,
   "metadata": {},
   "outputs": [],
   "source": [
    "rmse_valid['LightGBM_Best'] = rmse(target_valid, predicted_valid_lgb)\n",
    "rmse_train['LightGBM_Best'] = rmse(target_train, predicted_train_lgb)"
   ]
  },
  {
   "cell_type": "code",
   "execution_count": 89,
   "metadata": {},
   "outputs": [
    {
     "name": "stdout",
     "output_type": "stream",
     "text": [
      "RMSE train set= 1458.9263880994374\n",
      "RMSE valid set= 1553.223406680195\n",
      "Training time: 6.390765190124512\n",
      "Prediction time: 0.7001171112060547\n"
     ]
    }
   ],
   "source": [
    "print('RMSE train set=', rmse_train['LightGBM_Best'])\n",
    "print('RMSE valid set=', rmse_valid['LightGBM_Best'])\n",
    "print(\"Training time:\", training_time['LightGBM_Best'])\n",
    "print(\"Prediction time:\", prediction_time['LightGBM_Best'])"
   ]
  },
  {
   "cell_type": "markdown",
   "metadata": {},
   "source": [
    "### 5.4. XGBoost <a id='64'></a>"
   ]
  },
  {
   "cell_type": "markdown",
   "metadata": {},
   "source": [
    "#### Default"
   ]
  },
  {
   "cell_type": "code",
   "execution_count": 90,
   "metadata": {},
   "outputs": [],
   "source": [
    "model_xgb_d = XGBRegressor(seed=0, eval_metric='rmse')\n",
    "\n",
    "start_train = time.time()\n",
    "model_xgb_d.fit(features_train_std_en, target_train)\n",
    "training_time['XGBoost_Default'] = time.time() - start_train\n",
    "\n",
    "start_predict = time.time()\n",
    "predicted_valid_xgb = model_xgb_d.predict(features_valid_std_en)\n",
    "prediction_time['XGBoost_Default'] = time.time() - start_predict\n",
    "\n",
    "predicted_train_xgb = model_xgb_d.predict(features_train_std_en)"
   ]
  },
  {
   "cell_type": "code",
   "execution_count": 91,
   "metadata": {},
   "outputs": [],
   "source": [
    "rmse_valid['XGBoost_Default'] = rmse(target_valid, predicted_valid_xgb)\n",
    "rmse_train['XGBoost_Default'] = rmse(target_train, predicted_train_xgb)"
   ]
  },
  {
   "cell_type": "code",
   "execution_count": 92,
   "metadata": {},
   "outputs": [
    {
     "name": "stdout",
     "output_type": "stream",
     "text": [
      "RMSE train set = 1468.380952312065\n",
      "RMSE valid set = 1569.3943144343998\n",
      "Training time: 290.2816777229309\n",
      "Prediction time: 1.0373880863189697\n"
     ]
    }
   ],
   "source": [
    "print('RMSE train set =', rmse_train['XGBoost_Default'])\n",
    "print('RMSE valid set =', rmse_valid['XGBoost_Default'])\n",
    "print(\"Training time:\", training_time['XGBoost_Default'])\n",
    "print(\"Prediction time:\", prediction_time['XGBoost_Default'])"
   ]
  },
  {
   "cell_type": "markdown",
   "metadata": {},
   "source": [
    "#### Best Hyperparameters"
   ]
  },
  {
   "cell_type": "code",
   "execution_count": 93,
   "metadata": {},
   "outputs": [],
   "source": [
    "model_xgb_b = XGBRegressor(seed=0, eval_metric='rmse', learning_rate=0.2, max_depth=10)\n",
    "\n",
    "start_train = time.time()\n",
    "model_xgb_b.fit(features_train_std_en, target_train)\n",
    "training_time['XGBoost_Best'] = time.time() - start_train\n",
    "\n",
    "start_predict = time.time()\n",
    "predicted_valid_xgb = model_xgb_b.predict(features_valid_std_en)\n",
    "prediction_time['XGBoost_Best'] = time.time() - start_predict\n",
    "\n",
    "predicted_train_xgb = model_xgb_b.predict(features_train_std_en)"
   ]
  },
  {
   "cell_type": "code",
   "execution_count": 94,
   "metadata": {},
   "outputs": [],
   "source": [
    "rmse_valid['XGBoost_Best'] = rmse(target_valid, predicted_valid_xgb)\n",
    "rmse_train['XGBoost_Best'] = rmse(target_train, predicted_train_xgb)"
   ]
  },
  {
   "cell_type": "code",
   "execution_count": 95,
   "metadata": {},
   "outputs": [
    {
     "name": "stdout",
     "output_type": "stream",
     "text": [
      "RMSE train set = 1212.5523795496688\n",
      "RMSE valid set = 1509.7580775817585\n",
      "Training time: 488.8405797481537\n",
      "Prediction time: 1.441471815109253\n"
     ]
    }
   ],
   "source": [
    "print('RMSE train set =', rmse_train['XGBoost_Best'])\n",
    "print('RMSE valid set =', rmse_valid['XGBoost_Best'])\n",
    "print(\"Training time:\", training_time['XGBoost_Best'])\n",
    "print(\"Prediction time:\", prediction_time['XGBoost_Best'])"
   ]
  },
  {
   "cell_type": "markdown",
   "metadata": {},
   "source": [
    "### 5.5. CatBoost <a id='65'></a>"
   ]
  },
  {
   "cell_type": "markdown",
   "metadata": {},
   "source": [
    "#### Default"
   ]
  },
  {
   "cell_type": "code",
   "execution_count": 98,
   "metadata": {},
   "outputs": [
    {
     "name": "stderr",
     "output_type": "stream",
     "text": [
      "Custom logger is already specified. Specify more than one logger at same time is not thread safe."
     ]
    },
    {
     "name": "stdout",
     "output_type": "stream",
     "text": [
      "Learning rate set to 0.091363\n",
      "0:\tlearn: 4330.2049768\ttotal: 42.5ms\tremaining: 42.5s\n",
      "500:\tlearn: 1534.7886775\ttotal: 17.9s\tremaining: 17.8s\n",
      "999:\tlearn: 1458.8755672\ttotal: 35.8s\tremaining: 0us\n"
     ]
    }
   ],
   "source": [
    "model_cb_d = CatBoostRegressor(random_seed=0, loss_function=\"RMSE\", verbose=500)\n",
    "\n",
    "start_train = time.time()\n",
    "model_cb_d.fit(features_train_std_en, target_train)\n",
    "training_time['CatBoost_Default'] = time.time() - start_train\n",
    "\n",
    "start_predict = time.time()\n",
    "predicted_valid_cb = model_cb_d.predict(features_valid_std_en)\n",
    "prediction_time['CatBoost_Default'] = time.time() - start_predict\n",
    "\n",
    "predicted_train_cb = model_cb_d.predict(features_train_std_en)"
   ]
  },
  {
   "cell_type": "code",
   "execution_count": 99,
   "metadata": {},
   "outputs": [],
   "source": [
    "rmse_valid['CatBoost_Default'] = rmse(target_valid, predicted_valid_cb)\n",
    "rmse_train['CatBoost_Default'] = rmse(target_train, predicted_train_cb)"
   ]
  },
  {
   "cell_type": "code",
   "execution_count": 100,
   "metadata": {},
   "outputs": [
    {
     "name": "stdout",
     "output_type": "stream",
     "text": [
      "RMSE train set = 1458.8755672187576\n",
      "RMSE valid set = 1526.0682178546501\n",
      "Training time: 37.37137222290039\n",
      "Prediction time: 0.1346139907836914\n"
     ]
    }
   ],
   "source": [
    "print('RMSE train set =', rmse_train['CatBoost_Default'])\n",
    "print('RMSE valid set =', rmse_valid['CatBoost_Default'])\n",
    "print(\"Training time:\", training_time['CatBoost_Default'])\n",
    "print(\"Prediction time:\", prediction_time['CatBoost_Default'])"
   ]
  },
  {
   "cell_type": "markdown",
   "metadata": {},
   "source": [
    "#### Best Hyperparameters"
   ]
  },
  {
   "cell_type": "code",
   "execution_count": 101,
   "metadata": {},
   "outputs": [
    {
     "name": "stdout",
     "output_type": "stream",
     "text": [
      "0:\tlearn: 4284.8162768\ttotal: 139ms\tremaining: 2m 18s\n",
      "500:\tlearn: 1396.9976138\ttotal: 1m 12s\tremaining: 1m 12s\n",
      "999:\tlearn: 1292.5876064\ttotal: 2m 25s\tremaining: 0us\n"
     ]
    }
   ],
   "source": [
    "model_cb_b = CatBoostRegressor(random_seed=0, loss_function=\"RMSE\", learning_rate=0.1, max_depth=10, verbose=500)\n",
    "\n",
    "start_train = time.time()\n",
    "model_cb_b.fit(features_train_std_en, target_train)\n",
    "training_time['CatBoost_Best'] = time.time() - start_train\n",
    "\n",
    "start_predict = time.time()\n",
    "predicted_valid_cb = model_cb_b.predict(features_valid_std_en)\n",
    "prediction_time['CatBoost_Best'] = time.time() - start_predict\n",
    "\n",
    "predicted_train_cb = model_cb_b.predict(features_train_std_en)"
   ]
  },
  {
   "cell_type": "code",
   "execution_count": 102,
   "metadata": {},
   "outputs": [],
   "source": [
    "rmse_valid['CatBoost_Best'] = rmse(target_valid, predicted_valid_cb)\n",
    "rmse_train['CatBoost_Best'] = rmse(target_train, predicted_train_cb)"
   ]
  },
  {
   "cell_type": "code",
   "execution_count": 103,
   "metadata": {},
   "outputs": [
    {
     "name": "stdout",
     "output_type": "stream",
     "text": [
      "RMSE train set = 1292.587606448132\n",
      "RMSE valid set = 1478.3270192897799\n",
      "Training time: 146.7383029460907\n",
      "Prediction time: 0.35945940017700195\n"
     ]
    }
   ],
   "source": [
    "print('RMSE train set =', rmse_train['CatBoost_Best'])\n",
    "print('RMSE valid set =', rmse_valid['CatBoost_Best'])\n",
    "print(\"Training time:\", training_time['CatBoost_Best'])\n",
    "print(\"Prediction time:\", prediction_time['CatBoost_Best'])"
   ]
  },
  {
   "cell_type": "markdown",
   "metadata": {},
   "source": [
    "### 5.6. Brief Summary <a id='66'></a>"
   ]
  },
  {
   "cell_type": "code",
   "execution_count": 110,
   "metadata": {
    "scrolled": true
   },
   "outputs": [
    {
     "data": {
      "text/html": [
       "<div>\n",
       "<style scoped>\n",
       "    .dataframe tbody tr th:only-of-type {\n",
       "        vertical-align: middle;\n",
       "    }\n",
       "\n",
       "    .dataframe tbody tr th {\n",
       "        vertical-align: top;\n",
       "    }\n",
       "\n",
       "    .dataframe thead th {\n",
       "        text-align: right;\n",
       "    }\n",
       "</style>\n",
       "<table border=\"1\" class=\"dataframe\">\n",
       "  <thead>\n",
       "    <tr style=\"text-align: right;\">\n",
       "      <th></th>\n",
       "      <th>LinearRegression</th>\n",
       "      <th>RandomForest_Default</th>\n",
       "      <th>RandomForest_Best</th>\n",
       "      <th>LightGBM_Default</th>\n",
       "      <th>LightGBM_Best</th>\n",
       "      <th>XGBoost_Default</th>\n",
       "      <th>XGBoost_Best</th>\n",
       "      <th>CatBoost_Default</th>\n",
       "      <th>CatBoost_Best</th>\n",
       "    </tr>\n",
       "  </thead>\n",
       "  <tbody>\n",
       "    <tr>\n",
       "      <th>rmse_train</th>\n",
       "      <td>2269.218054</td>\n",
       "      <td>581.780397</td>\n",
       "      <td>1098.352904</td>\n",
       "      <td>1579.329082</td>\n",
       "      <td>1458.926388</td>\n",
       "      <td>1468.380952</td>\n",
       "      <td>1212.552380</td>\n",
       "      <td>1458.875567</td>\n",
       "      <td>1292.587606</td>\n",
       "    </tr>\n",
       "    <tr>\n",
       "      <th>rmse_valid</th>\n",
       "      <td>2279.815629</td>\n",
       "      <td>1518.998122</td>\n",
       "      <td>1591.719633</td>\n",
       "      <td>1605.200825</td>\n",
       "      <td>1553.223407</td>\n",
       "      <td>1569.394314</td>\n",
       "      <td>1509.758078</td>\n",
       "      <td>1526.068218</td>\n",
       "      <td>1478.327019</td>\n",
       "    </tr>\n",
       "    <tr>\n",
       "      <th>training_time</th>\n",
       "      <td>12.101052</td>\n",
       "      <td>321.919338</td>\n",
       "      <td>48.333929</td>\n",
       "      <td>6.859331</td>\n",
       "      <td>6.390765</td>\n",
       "      <td>290.281678</td>\n",
       "      <td>488.840580</td>\n",
       "      <td>37.371372</td>\n",
       "      <td>146.738303</td>\n",
       "    </tr>\n",
       "    <tr>\n",
       "      <th>prediction_time</th>\n",
       "      <td>0.132420</td>\n",
       "      <td>4.268806</td>\n",
       "      <td>0.452173</td>\n",
       "      <td>0.921618</td>\n",
       "      <td>0.700117</td>\n",
       "      <td>1.037388</td>\n",
       "      <td>1.441472</td>\n",
       "      <td>0.134614</td>\n",
       "      <td>0.359459</td>\n",
       "    </tr>\n",
       "  </tbody>\n",
       "</table>\n",
       "</div>"
      ],
      "text/plain": [
       "                 LinearRegression  RandomForest_Default  RandomForest_Best  \\\n",
       "rmse_train            2269.218054            581.780397        1098.352904   \n",
       "rmse_valid            2279.815629           1518.998122        1591.719633   \n",
       "training_time           12.101052            321.919338          48.333929   \n",
       "prediction_time          0.132420              4.268806           0.452173   \n",
       "\n",
       "                 LightGBM_Default  LightGBM_Best  XGBoost_Default  \\\n",
       "rmse_train            1579.329082    1458.926388      1468.380952   \n",
       "rmse_valid            1605.200825    1553.223407      1569.394314   \n",
       "training_time            6.859331       6.390765       290.281678   \n",
       "prediction_time          0.921618       0.700117         1.037388   \n",
       "\n",
       "                 XGBoost_Best  CatBoost_Default  CatBoost_Best  \n",
       "rmse_train        1212.552380       1458.875567    1292.587606  \n",
       "rmse_valid        1509.758078       1526.068218    1478.327019  \n",
       "training_time      488.840580         37.371372     146.738303  \n",
       "prediction_time      1.441472          0.134614       0.359459  "
      ]
     },
     "execution_count": 110,
     "metadata": {},
     "output_type": "execute_result"
    }
   ],
   "source": [
    "performance = pd.DataFrame([rmse_train, rmse_valid, training_time, prediction_time],\n",
    "                           index=['rmse_train','rmse_valid','training_time','prediction_time'])\n",
    "performance"
   ]
  },
  {
   "cell_type": "code",
   "execution_count": 122,
   "metadata": {
    "scrolled": false
   },
   "outputs": [
    {
     "data": {
      "text/html": [
       "<div>\n",
       "<style scoped>\n",
       "    .dataframe tbody tr th:only-of-type {\n",
       "        vertical-align: middle;\n",
       "    }\n",
       "\n",
       "    .dataframe tbody tr th {\n",
       "        vertical-align: top;\n",
       "    }\n",
       "\n",
       "    .dataframe thead th {\n",
       "        text-align: right;\n",
       "    }\n",
       "</style>\n",
       "<table border=\"1\" class=\"dataframe\">\n",
       "  <thead>\n",
       "    <tr style=\"text-align: right;\">\n",
       "      <th></th>\n",
       "      <th>index</th>\n",
       "      <th>rmse_train</th>\n",
       "      <th>rmse_valid</th>\n",
       "      <th>training_time</th>\n",
       "      <th>prediction_time</th>\n",
       "    </tr>\n",
       "  </thead>\n",
       "  <tbody>\n",
       "    <tr>\n",
       "      <th>0</th>\n",
       "      <td>LinearRegression</td>\n",
       "      <td>2269.218054</td>\n",
       "      <td>2279.815629</td>\n",
       "      <td>12.101052</td>\n",
       "      <td>0.132420</td>\n",
       "    </tr>\n",
       "    <tr>\n",
       "      <th>1</th>\n",
       "      <td>RandomForest_Default</td>\n",
       "      <td>581.780397</td>\n",
       "      <td>1518.998122</td>\n",
       "      <td>321.919338</td>\n",
       "      <td>4.268806</td>\n",
       "    </tr>\n",
       "    <tr>\n",
       "      <th>2</th>\n",
       "      <td>RandomForest_Best</td>\n",
       "      <td>1098.352904</td>\n",
       "      <td>1591.719633</td>\n",
       "      <td>48.333929</td>\n",
       "      <td>0.452173</td>\n",
       "    </tr>\n",
       "    <tr>\n",
       "      <th>3</th>\n",
       "      <td>LightGBM_Default</td>\n",
       "      <td>1579.329082</td>\n",
       "      <td>1605.200825</td>\n",
       "      <td>6.859331</td>\n",
       "      <td>0.921618</td>\n",
       "    </tr>\n",
       "    <tr>\n",
       "      <th>4</th>\n",
       "      <td>LightGBM_Best</td>\n",
       "      <td>1458.926388</td>\n",
       "      <td>1553.223407</td>\n",
       "      <td>6.390765</td>\n",
       "      <td>0.700117</td>\n",
       "    </tr>\n",
       "    <tr>\n",
       "      <th>5</th>\n",
       "      <td>XGBoost_Default</td>\n",
       "      <td>1468.380952</td>\n",
       "      <td>1569.394314</td>\n",
       "      <td>290.281678</td>\n",
       "      <td>1.037388</td>\n",
       "    </tr>\n",
       "    <tr>\n",
       "      <th>6</th>\n",
       "      <td>XGBoost_Best</td>\n",
       "      <td>1212.552380</td>\n",
       "      <td>1509.758078</td>\n",
       "      <td>488.840580</td>\n",
       "      <td>1.441472</td>\n",
       "    </tr>\n",
       "    <tr>\n",
       "      <th>7</th>\n",
       "      <td>CatBoost_Default</td>\n",
       "      <td>1458.875567</td>\n",
       "      <td>1526.068218</td>\n",
       "      <td>37.371372</td>\n",
       "      <td>0.134614</td>\n",
       "    </tr>\n",
       "    <tr>\n",
       "      <th>8</th>\n",
       "      <td>CatBoost_Best</td>\n",
       "      <td>1292.587606</td>\n",
       "      <td>1478.327019</td>\n",
       "      <td>146.738303</td>\n",
       "      <td>0.359459</td>\n",
       "    </tr>\n",
       "  </tbody>\n",
       "</table>\n",
       "</div>"
      ],
      "text/plain": [
       "                  index   rmse_train   rmse_valid  training_time  \\\n",
       "0      LinearRegression  2269.218054  2279.815629      12.101052   \n",
       "1  RandomForest_Default   581.780397  1518.998122     321.919338   \n",
       "2     RandomForest_Best  1098.352904  1591.719633      48.333929   \n",
       "3      LightGBM_Default  1579.329082  1605.200825       6.859331   \n",
       "4         LightGBM_Best  1458.926388  1553.223407       6.390765   \n",
       "5       XGBoost_Default  1468.380952  1569.394314     290.281678   \n",
       "6          XGBoost_Best  1212.552380  1509.758078     488.840580   \n",
       "7      CatBoost_Default  1458.875567  1526.068218      37.371372   \n",
       "8         CatBoost_Best  1292.587606  1478.327019     146.738303   \n",
       "\n",
       "   prediction_time  \n",
       "0         0.132420  \n",
       "1         4.268806  \n",
       "2         0.452173  \n",
       "3         0.921618  \n",
       "4         0.700117  \n",
       "5         1.037388  \n",
       "6         1.441472  \n",
       "7         0.134614  \n",
       "8         0.359459  "
      ]
     },
     "execution_count": 122,
     "metadata": {},
     "output_type": "execute_result"
    }
   ],
   "source": [
    "performance_T = performance.T.reset_index()"
   ]
  },
  {
   "cell_type": "code",
   "execution_count": 158,
   "metadata": {
    "scrolled": false
   },
   "outputs": [
    {
     "data": {
      "text/html": [
       "<div>\n",
       "<style scoped>\n",
       "    .dataframe tbody tr th:only-of-type {\n",
       "        vertical-align: middle;\n",
       "    }\n",
       "\n",
       "    .dataframe tbody tr th {\n",
       "        vertical-align: top;\n",
       "    }\n",
       "\n",
       "    .dataframe thead th {\n",
       "        text-align: right;\n",
       "    }\n",
       "</style>\n",
       "<table border=\"1\" class=\"dataframe\">\n",
       "  <thead>\n",
       "    <tr style=\"text-align: right;\">\n",
       "      <th></th>\n",
       "      <th>index</th>\n",
       "      <th>rmse_train</th>\n",
       "    </tr>\n",
       "  </thead>\n",
       "  <tbody>\n",
       "    <tr>\n",
       "      <th>1</th>\n",
       "      <td>RandomForest_Default</td>\n",
       "      <td>581.780397</td>\n",
       "    </tr>\n",
       "    <tr>\n",
       "      <th>2</th>\n",
       "      <td>RandomForest_Best</td>\n",
       "      <td>1098.352904</td>\n",
       "    </tr>\n",
       "    <tr>\n",
       "      <th>6</th>\n",
       "      <td>XGBoost_Best</td>\n",
       "      <td>1212.552380</td>\n",
       "    </tr>\n",
       "    <tr>\n",
       "      <th>8</th>\n",
       "      <td>CatBoost_Best</td>\n",
       "      <td>1292.587606</td>\n",
       "    </tr>\n",
       "    <tr>\n",
       "      <th>7</th>\n",
       "      <td>CatBoost_Default</td>\n",
       "      <td>1458.875567</td>\n",
       "    </tr>\n",
       "    <tr>\n",
       "      <th>4</th>\n",
       "      <td>LightGBM_Best</td>\n",
       "      <td>1458.926388</td>\n",
       "    </tr>\n",
       "    <tr>\n",
       "      <th>5</th>\n",
       "      <td>XGBoost_Default</td>\n",
       "      <td>1468.380952</td>\n",
       "    </tr>\n",
       "    <tr>\n",
       "      <th>3</th>\n",
       "      <td>LightGBM_Default</td>\n",
       "      <td>1579.329082</td>\n",
       "    </tr>\n",
       "    <tr>\n",
       "      <th>0</th>\n",
       "      <td>LinearRegression</td>\n",
       "      <td>2269.218054</td>\n",
       "    </tr>\n",
       "  </tbody>\n",
       "</table>\n",
       "</div>"
      ],
      "text/plain": [
       "                  index   rmse_train\n",
       "1  RandomForest_Default   581.780397\n",
       "2     RandomForest_Best  1098.352904\n",
       "6          XGBoost_Best  1212.552380\n",
       "8         CatBoost_Best  1292.587606\n",
       "7      CatBoost_Default  1458.875567\n",
       "4         LightGBM_Best  1458.926388\n",
       "5       XGBoost_Default  1468.380952\n",
       "3      LightGBM_Default  1579.329082\n",
       "0      LinearRegression  2269.218054"
      ]
     },
     "execution_count": 158,
     "metadata": {},
     "output_type": "execute_result"
    }
   ],
   "source": [
    "performance_T[['index','rmse_train']].sort_values(by='rmse_train', ascending=True)"
   ]
  },
  {
   "cell_type": "code",
   "execution_count": 157,
   "metadata": {
    "scrolled": true
   },
   "outputs": [
    {
     "data": {
      "text/html": [
       "<div>\n",
       "<style scoped>\n",
       "    .dataframe tbody tr th:only-of-type {\n",
       "        vertical-align: middle;\n",
       "    }\n",
       "\n",
       "    .dataframe tbody tr th {\n",
       "        vertical-align: top;\n",
       "    }\n",
       "\n",
       "    .dataframe thead th {\n",
       "        text-align: right;\n",
       "    }\n",
       "</style>\n",
       "<table border=\"1\" class=\"dataframe\">\n",
       "  <thead>\n",
       "    <tr style=\"text-align: right;\">\n",
       "      <th></th>\n",
       "      <th>index</th>\n",
       "      <th>rmse_valid</th>\n",
       "    </tr>\n",
       "  </thead>\n",
       "  <tbody>\n",
       "    <tr>\n",
       "      <th>8</th>\n",
       "      <td>CatBoost_Best</td>\n",
       "      <td>1478.327019</td>\n",
       "    </tr>\n",
       "    <tr>\n",
       "      <th>6</th>\n",
       "      <td>XGBoost_Best</td>\n",
       "      <td>1509.758078</td>\n",
       "    </tr>\n",
       "    <tr>\n",
       "      <th>1</th>\n",
       "      <td>RandomForest_Default</td>\n",
       "      <td>1518.998122</td>\n",
       "    </tr>\n",
       "    <tr>\n",
       "      <th>7</th>\n",
       "      <td>CatBoost_Default</td>\n",
       "      <td>1526.068218</td>\n",
       "    </tr>\n",
       "    <tr>\n",
       "      <th>4</th>\n",
       "      <td>LightGBM_Best</td>\n",
       "      <td>1553.223407</td>\n",
       "    </tr>\n",
       "    <tr>\n",
       "      <th>5</th>\n",
       "      <td>XGBoost_Default</td>\n",
       "      <td>1569.394314</td>\n",
       "    </tr>\n",
       "    <tr>\n",
       "      <th>2</th>\n",
       "      <td>RandomForest_Best</td>\n",
       "      <td>1591.719633</td>\n",
       "    </tr>\n",
       "    <tr>\n",
       "      <th>3</th>\n",
       "      <td>LightGBM_Default</td>\n",
       "      <td>1605.200825</td>\n",
       "    </tr>\n",
       "    <tr>\n",
       "      <th>0</th>\n",
       "      <td>LinearRegression</td>\n",
       "      <td>2279.815629</td>\n",
       "    </tr>\n",
       "  </tbody>\n",
       "</table>\n",
       "</div>"
      ],
      "text/plain": [
       "                  index   rmse_valid\n",
       "8         CatBoost_Best  1478.327019\n",
       "6          XGBoost_Best  1509.758078\n",
       "1  RandomForest_Default  1518.998122\n",
       "7      CatBoost_Default  1526.068218\n",
       "4         LightGBM_Best  1553.223407\n",
       "5       XGBoost_Default  1569.394314\n",
       "2     RandomForest_Best  1591.719633\n",
       "3      LightGBM_Default  1605.200825\n",
       "0      LinearRegression  2279.815629"
      ]
     },
     "execution_count": 157,
     "metadata": {},
     "output_type": "execute_result"
    }
   ],
   "source": [
    "performance_T[['index','rmse_valid']].sort_values(by='rmse_valid', ascending=True)"
   ]
  },
  {
   "cell_type": "code",
   "execution_count": 159,
   "metadata": {
    "scrolled": false
   },
   "outputs": [
    {
     "data": {
      "text/html": [
       "<div>\n",
       "<style scoped>\n",
       "    .dataframe tbody tr th:only-of-type {\n",
       "        vertical-align: middle;\n",
       "    }\n",
       "\n",
       "    .dataframe tbody tr th {\n",
       "        vertical-align: top;\n",
       "    }\n",
       "\n",
       "    .dataframe thead th {\n",
       "        text-align: right;\n",
       "    }\n",
       "</style>\n",
       "<table border=\"1\" class=\"dataframe\">\n",
       "  <thead>\n",
       "    <tr style=\"text-align: right;\">\n",
       "      <th></th>\n",
       "      <th>index</th>\n",
       "      <th>training_time</th>\n",
       "    </tr>\n",
       "  </thead>\n",
       "  <tbody>\n",
       "    <tr>\n",
       "      <th>4</th>\n",
       "      <td>LightGBM_Best</td>\n",
       "      <td>6.390765</td>\n",
       "    </tr>\n",
       "    <tr>\n",
       "      <th>3</th>\n",
       "      <td>LightGBM_Default</td>\n",
       "      <td>6.859331</td>\n",
       "    </tr>\n",
       "    <tr>\n",
       "      <th>0</th>\n",
       "      <td>LinearRegression</td>\n",
       "      <td>12.101052</td>\n",
       "    </tr>\n",
       "    <tr>\n",
       "      <th>7</th>\n",
       "      <td>CatBoost_Default</td>\n",
       "      <td>37.371372</td>\n",
       "    </tr>\n",
       "    <tr>\n",
       "      <th>2</th>\n",
       "      <td>RandomForest_Best</td>\n",
       "      <td>48.333929</td>\n",
       "    </tr>\n",
       "    <tr>\n",
       "      <th>8</th>\n",
       "      <td>CatBoost_Best</td>\n",
       "      <td>146.738303</td>\n",
       "    </tr>\n",
       "    <tr>\n",
       "      <th>5</th>\n",
       "      <td>XGBoost_Default</td>\n",
       "      <td>290.281678</td>\n",
       "    </tr>\n",
       "    <tr>\n",
       "      <th>1</th>\n",
       "      <td>RandomForest_Default</td>\n",
       "      <td>321.919338</td>\n",
       "    </tr>\n",
       "    <tr>\n",
       "      <th>6</th>\n",
       "      <td>XGBoost_Best</td>\n",
       "      <td>488.840580</td>\n",
       "    </tr>\n",
       "  </tbody>\n",
       "</table>\n",
       "</div>"
      ],
      "text/plain": [
       "                  index  training_time\n",
       "4         LightGBM_Best       6.390765\n",
       "3      LightGBM_Default       6.859331\n",
       "0      LinearRegression      12.101052\n",
       "7      CatBoost_Default      37.371372\n",
       "2     RandomForest_Best      48.333929\n",
       "8         CatBoost_Best     146.738303\n",
       "5       XGBoost_Default     290.281678\n",
       "1  RandomForest_Default     321.919338\n",
       "6          XGBoost_Best     488.840580"
      ]
     },
     "execution_count": 159,
     "metadata": {},
     "output_type": "execute_result"
    }
   ],
   "source": [
    "train_time = performance_T[['index','training_time']].sort_values(by='training_time', ascending=True)\n",
    "train_time"
   ]
  },
  {
   "cell_type": "code",
   "execution_count": 160,
   "metadata": {
    "scrolled": false
   },
   "outputs": [
    {
     "data": {
      "text/html": [
       "<div>\n",
       "<style scoped>\n",
       "    .dataframe tbody tr th:only-of-type {\n",
       "        vertical-align: middle;\n",
       "    }\n",
       "\n",
       "    .dataframe tbody tr th {\n",
       "        vertical-align: top;\n",
       "    }\n",
       "\n",
       "    .dataframe thead th {\n",
       "        text-align: right;\n",
       "    }\n",
       "</style>\n",
       "<table border=\"1\" class=\"dataframe\">\n",
       "  <thead>\n",
       "    <tr style=\"text-align: right;\">\n",
       "      <th></th>\n",
       "      <th>index</th>\n",
       "      <th>prediction_time</th>\n",
       "    </tr>\n",
       "  </thead>\n",
       "  <tbody>\n",
       "    <tr>\n",
       "      <th>0</th>\n",
       "      <td>LinearRegression</td>\n",
       "      <td>0.132420</td>\n",
       "    </tr>\n",
       "    <tr>\n",
       "      <th>7</th>\n",
       "      <td>CatBoost_Default</td>\n",
       "      <td>0.134614</td>\n",
       "    </tr>\n",
       "    <tr>\n",
       "      <th>8</th>\n",
       "      <td>CatBoost_Best</td>\n",
       "      <td>0.359459</td>\n",
       "    </tr>\n",
       "    <tr>\n",
       "      <th>2</th>\n",
       "      <td>RandomForest_Best</td>\n",
       "      <td>0.452173</td>\n",
       "    </tr>\n",
       "    <tr>\n",
       "      <th>4</th>\n",
       "      <td>LightGBM_Best</td>\n",
       "      <td>0.700117</td>\n",
       "    </tr>\n",
       "    <tr>\n",
       "      <th>3</th>\n",
       "      <td>LightGBM_Default</td>\n",
       "      <td>0.921618</td>\n",
       "    </tr>\n",
       "    <tr>\n",
       "      <th>5</th>\n",
       "      <td>XGBoost_Default</td>\n",
       "      <td>1.037388</td>\n",
       "    </tr>\n",
       "    <tr>\n",
       "      <th>6</th>\n",
       "      <td>XGBoost_Best</td>\n",
       "      <td>1.441472</td>\n",
       "    </tr>\n",
       "    <tr>\n",
       "      <th>1</th>\n",
       "      <td>RandomForest_Default</td>\n",
       "      <td>4.268806</td>\n",
       "    </tr>\n",
       "  </tbody>\n",
       "</table>\n",
       "</div>"
      ],
      "text/plain": [
       "                  index  prediction_time\n",
       "0      LinearRegression         0.132420\n",
       "7      CatBoost_Default         0.134614\n",
       "8         CatBoost_Best         0.359459\n",
       "2     RandomForest_Best         0.452173\n",
       "4         LightGBM_Best         0.700117\n",
       "3      LightGBM_Default         0.921618\n",
       "5       XGBoost_Default         1.037388\n",
       "6          XGBoost_Best         1.441472\n",
       "1  RandomForest_Default         4.268806"
      ]
     },
     "execution_count": 160,
     "metadata": {},
     "output_type": "execute_result"
    }
   ],
   "source": [
    "predict_time = performance_T[['index','prediction_time']].sort_values(by='prediction_time', ascending=True)\n",
    "predict_time"
   ]
  },
  {
   "cell_type": "code",
   "execution_count": 136,
   "metadata": {},
   "outputs": [],
   "source": [
    "performance_m = pd.melt(performance_T[['index','rmse_train','rmse_valid']], id_vars='index')"
   ]
  },
  {
   "cell_type": "code",
   "execution_count": 168,
   "metadata": {
    "scrolled": false
   },
   "outputs": [
    {
     "data": {
      "image/png": "[encoded data removed]",
      "text/plain": [
       "<Figure size 1152x576 with 1 Axes>"
      ]
     },
     "metadata": {},
     "output_type": "display_data"
    }
   ],
   "source": [
    "plt.figure(figsize=(16,8))\n",
    "sns.barplot(data=performance_m, x='index', y='value',hue='variable')\n",
    "plt.title('Training and Validation RMSE by Models',fontsize=16)\n",
    "plt.xlabel('models')\n",
    "plt.xticks(rotation=90)\n",
    "plt.show()"
   ]
  },
  {
   "cell_type": "code",
   "execution_count": 167,
   "metadata": {},
   "outputs": [
    {
     "data": {
      "image/png": "[encoded data removed]",
      "text/plain": [
       "<Figure size 1152x576 with 1 Axes>"
      ]
     },
     "metadata": {},
     "output_type": "display_data"
    }
   ],
   "source": [
    "plt.figure(figsize=(16,8))\n",
    "sns.barplot(data=train_time, x='index', y='training_time')\n",
    "plt.title('Training Time by Models',fontsize=16)\n",
    "plt.xlabel('models')\n",
    "plt.xticks(rotation=90)\n",
    "plt.show()"
   ]
  },
  {
   "cell_type": "code",
   "execution_count": 166,
   "metadata": {},
   "outputs": [
    {
     "data": {
      "image/png": "[encoded data removed]",
      "text/plain": [
       "<Figure size 1152x576 with 1 Axes>"
      ]
     },
     "metadata": {},
     "output_type": "display_data"
    }
   ],
   "source": [
    "plt.figure(figsize=(16,8))\n",
    "sns.barplot(data=predict_time, x='index', y='prediction_time')\n",
    "plt.title('Prediction Time by Models',fontsize=16)\n",
    "plt.xlabel('models')\n",
    "plt.xticks(rotation=90)\n",
    "plt.show()"
   ]
  },
  {
   "cell_type": "markdown",
   "metadata": {},
   "source": [
    "Key Findings:\n",
    "* On the validation set, CatBoost has the lowest validation set RMSE of 1,478 followed closely by XGBoost and LightGBM\n",
    "* On the training set, Random Forest has the lowest RMSE, followed by XGBoost, CatBoost and LightGBM.\n",
    "* Training speed is the lowest for LightGBM, lower than our dummy model, Linear Regression. CatBoost is the third best after Linear Regression, followed by Random Forest and XGBoost.\n",
    "* Prediction time is the fastest in Linear Regression followed by CatBoost, Random Forest, LightGBM, and XGBoost.\n",
    "* Random Forest has overfitting problem.\n",
    "* CatBoost frequently has problem when training."
   ]
  },
  {
   "cell_type": "markdown",
   "metadata": {},
   "source": [
    "## 6. General Conclusion <a id='end'></a>"
   ]
  },
  {
   "cell_type": "markdown",
   "metadata": {},
   "source": [
    "First, we conduct EDA. We found that there are many problems with the dataset:\n",
    "*\tDateCrawled, DateCreated, and LastSeen is in the wrong datatype.\n",
    "*\tThere are 262 duplicated rows.\n",
    "*\tThere are 181,077 missing data in these columns: VehicleType; Gearbox; Model; FuelType; and NotRepaired.\n",
    " *\tMissing data for VehicleType are in vehicles with newer registration dates.\n",
    " *\tNotRepaired data are missing more frequently in older registered vehicles.\n",
    " *\tOther missing data seems to be appearing at random.\n",
    "*\tThere are outliers in RegistrationYear, and Power columns.\n",
    " *\tVehicles with RegistrationYear far in the future (after 2019) and after maximum DateCrawled which is illogical.\n",
    " *\tVehicles with Power more than 2,012 hp is illogical as typical vehicles have 180-200 hp and the highest ever reached is 2,012 hp.\n",
    "*\tThere are columns with RegistrationMonth equals to 0 which is illogical.\n",
    "*\tAll the values in NumberOfPictures column equal to 0.\n",
    "\n",
    "The mitigation for those problems are:\n",
    "*\tDateCrawled, DateCreated, and LastSeen is changed into datetime format.\n",
    "*\tAll duplicated rows are removed.\n",
    "*\tData with registration year after 2023 and registration month equals to 0 removed.\n",
    "*\tRemove all the missing values listwise.\n",
    "*\tRemove vehicles with registration year before 1987 and after 2017.\n",
    "*\tRemove vehicles with power less than -37.5 and more than 262.5.\n",
    "\n",
    "Then we derive new variable: age which is the difference between maximum date and registration date (combination of registration year and month).\n",
    "\n",
    "Next, we define features and targets columns then split them into training and validation set, with 30% of the data goes to validation set. After that, we encode features categorical columns and standardize numerical feature columns. We then define RMSE score to evaluate models.\n",
    "\n",
    "Models trained in this research are linear regression, random forest regressor, LightGBM regressor, CatBoost regressor, and XGBoost regressor. We want to see the RMSE and speed of the models. With hyperparameter adjustment, CatBoost has the lowest validation set RMSE of 1,478 followed closely by XGBoost and LightGBM. On the training set, Random Forest has the lowest RMSE, followed by XGBoost, CatBoost and LightGBM. In terms of training speed, LightGBM is the fastest to be trained, faster than our dummy model, Linear Regression. CatBoost is the third best after Linear Regression, followed by Random Forest and XGBoost. And for the prediction time, Linear Regression is the fastest, followed by CatBoost, Random Forest, LightGBM, and XGBoost.\n",
    "\n",
    "If **total running time** is the priority, we should use **LightGBM** as it is the fastest and gives a relatively good result. However, if **prediction accuracy** is the primary concern, **CatBoost** is recommended. Note that I frequently encounter problem with CatBoost when training the model. **Overall**, I recommend using **LightGBM** in this case."
   ]
  }
 ],
 "metadata": {
  "kernelspec": {
   "display_name": "Python 3 (ipykernel)",
   "language": "python",
   "name": "python3"
  },
  "language_info": {
   "codemirror_mode": {
    "name": "ipython",
    "version": 3
   },
   "file_extension": ".py",
   "mimetype": "text/x-python",
   "name": "python",
   "nbconvert_exporter": "python",
   "pygments_lexer": "ipython3",
   "version": "3.9.13"
  },
  "toc": {
   "base_numbering": 1,
   "nav_menu": {},
   "number_sections": true,
   "sideBar": true,
   "skip_h1_title": true,
   "title_cell": "Table of Contents",
   "title_sidebar": "Contents",
   "toc_cell": false,
   "toc_position": {},
   "toc_section_display": true,
   "toc_window_display": false
  }
 },
 "nbformat": 4,
 "nbformat_minor": 2
}
